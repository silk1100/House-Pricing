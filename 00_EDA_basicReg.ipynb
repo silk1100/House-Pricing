{
 "cells": [
  {
   "cell_type": "code",
   "execution_count": 3,
   "metadata": {},
   "outputs": [],
   "source": [
    "DATA_PATH_TRAIN = './data/train.csv'\n",
    "DATA_PATH_TEST = './data/test.csv'"
   ]
  },
  {
   "cell_type": "code",
   "execution_count": 2,
   "metadata": {},
   "outputs": [],
   "source": [
    "import numpy as np\n",
    "import pandas as pd\n",
    "import os\n",
    "\n",
    "import matplotlib.pyplot as plt\n",
    "\n",
    "import sklearn\n",
    "import xgboost\n",
    "\n",
    "from warnings import simplefilter\n",
    "simplefilter('ignore')\n",
    "\n",
    "from tensorflow import keras"
   ]
  },
  {
   "cell_type": "code",
   "execution_count": 118,
   "metadata": {},
   "outputs": [],
   "source": [
    "df = pd.read_csv(os.path.join(DATA_PATH_TRAIN))\n",
    "dft = pd.read_csv('./data/test.csv', index_col=0)"
   ]
  },
  {
   "cell_type": "code",
   "execution_count": 119,
   "metadata": {},
   "outputs": [
    {
     "data": {
      "text/plain": [
       "Index(['Alley', 'FireplaceQu', 'PoolQC', 'Fence', 'MiscFeature'], dtype='object')"
      ]
     },
     "execution_count": 119,
     "metadata": {},
     "output_type": "execute_result"
    }
   ],
   "source": [
    "# The columns that contains too much missing values\n",
    "missingcols = df.columns[np.where(df.isna().sum()/len(df) > 0.2)[0]]\n",
    "missingcols"
   ]
  },
  {
   "cell_type": "code",
   "execution_count": 120,
   "metadata": {},
   "outputs": [
    {
     "name": "stdout",
     "output_type": "stream",
     "text": [
      "Grvl    50\n",
      "Pave    41\n",
      "Name: Alley, dtype: int64\n"
     ]
    }
   ],
   "source": [
    "print(df['Alley'].value_counts())"
   ]
  },
  {
   "cell_type": "code",
   "execution_count": 121,
   "metadata": {},
   "outputs": [],
   "source": [
    "df[missingcols] = df[missingcols].fillna('NA')\n",
    "dft[missingcols] = dft[missingcols].fillna('NA')\n"
   ]
  },
  {
   "cell_type": "code",
   "execution_count": 122,
   "metadata": {},
   "outputs": [
    {
     "data": {
      "text/plain": [
       "Index(['LotFrontage', 'MasVnrType', 'MasVnrArea', 'BsmtQual', 'BsmtCond',\n",
       "       'BsmtExposure', 'BsmtFinType1', 'BsmtFinType2', 'Electrical',\n",
       "       'GarageType', 'GarageYrBlt', 'GarageFinish', 'GarageQual',\n",
       "       'GarageCond'],\n",
       "      dtype='object')"
      ]
     },
     "execution_count": 122,
     "metadata": {},
     "output_type": "execute_result"
    }
   ],
   "source": [
    "df.columns[np.where(df.isna().sum()>0)[0]]"
   ]
  },
  {
   "cell_type": "code",
   "execution_count": 81,
   "metadata": {},
   "outputs": [],
   "source": [
    "# Going over the nans columns one by one and see if I can replace nans with some value that makes sense or totaly remove them\n",
    "df['LotFrontage'] = df['LotFrontage'].fillna(0.0)\n",
    "df['MasVnrType'] = df['MasVnrType'].fillna('NA') # Replace nans with 'NA'\n",
    "df.loc[(df['MasVnrType']=='None'),'MasVnrType'] = 'NA' # Update the None values with NA as well to keep the same NA valye\n",
    "\n",
    "df['MasVnrArea'] = df['MasVnrArea'].fillna(0.0)\n",
    "df['BsmtQual'] = df['BsmtQual'].fillna('NA')\n",
    "df['BsmtCond'] = df['BsmtCond'].fillna('NA')\n",
    "df['BsmtExposure'] = df['BsmtExposure'].fillna('NA')\n",
    "df['BsmtFinType1'] = df['BsmtFinType1'].fillna('NA')\n",
    "df['BsmtFinType2'] = df['BsmtFinType2'].fillna('NA')\n",
    "df.drop(df.index[np.where(df['Electrical'].isna())[0]], inplace=True) # Only one entry is missing\n",
    "df['GarageType'] = df['GarageType'].fillna('NA') \n",
    "# GarageYrBlt is handled in a following cell\n",
    "df['GarageFinish'] = df['GarageFinish'].fillna('NA')\n",
    "df['GarageQual'] = df['GarageQual'].fillna('NA')\n",
    "df['GarageCond'] = df['GarageCond'].fillna('NA')\n"
   ]
  },
  {
   "cell_type": "code",
   "execution_count": 123,
   "metadata": {},
   "outputs": [],
   "source": [
    "# Going over the nans columns one by one and see if I can replace nans with some value that makes sense or totaly remove them\n",
    "dft['LotFrontage'] = dft['LotFrontage'].fillna(0.0)\n",
    "dft['MasVnrType'] = dft['MasVnrType'].fillna('NA') # Replace nans with 'NA'\n",
    "dft.loc[(dft['MasVnrType']=='None'),'MasVnrType'] = 'NA' # Update the None values with NA as well to keep the same NA valye\n",
    "\n",
    "dft['MasVnrArea'] = dft['MasVnrArea'].fillna(0.0)\n",
    "dft['BsmtQual'] = dft['BsmtQual'].fillna('NA')\n",
    "dft['BsmtCond'] = dft['BsmtCond'].fillna('NA')\n",
    "dft['BsmtExposure'] = dft['BsmtExposure'].fillna('NA')\n",
    "dft['BsmtFinType1'] = dft['BsmtFinType1'].fillna('NA')\n",
    "dft['BsmtFinType2'] = dft['BsmtFinType2'].fillna('NA')\n",
    "dft.drop(df.index[np.where(dft['Electrical'].isna())[0]], inplace=True) # Only one entry is missing\n",
    "dft['GarageType'] = dft['GarageType'].fillna('NA') \n",
    "# GarageYrBlt is handled in a following cell\n",
    "dft['GarageFinish'] = dft['GarageFinish'].fillna('NA')\n",
    "dft['GarageQual'] = dft['GarageQual'].fillna('NA')\n",
    "dft['GarageCond'] = dft['GarageCond'].fillna('NA')"
   ]
  },
  {
   "cell_type": "code",
   "execution_count": 82,
   "metadata": {},
   "outputs": [
    {
     "data": {
      "text/plain": [
       "97"
      ]
     },
     "execution_count": 82,
     "metadata": {},
     "output_type": "execute_result"
    }
   ],
   "source": [
    "df['GarageYrBlt'].nunique()"
   ]
  },
  {
   "cell_type": "code",
   "execution_count": 83,
   "metadata": {},
   "outputs": [
    {
     "data": {
      "image/png": "[encoded data removed]",
      "text/plain": [
       "<Figure size 432x288 with 1 Axes>"
      ]
     },
     "metadata": {
      "needs_background": "light"
     },
     "output_type": "display_data"
    }
   ],
   "source": [
    "df['GarageYrBlt'].plot(kind='box')\n",
    "plt.grid(axis='both')"
   ]
  },
  {
   "cell_type": "code",
   "execution_count": 84,
   "metadata": {},
   "outputs": [],
   "source": [
    "def garageYear2Cat(x):\n",
    "    if np.isnan(x):\n",
    "        return 'NA'\n",
    "    \n",
    "    if x<1963:\n",
    "        return 'old'\n",
    "    if (x>=1963) and (x<=1999):\n",
    "        return 'moderate'\n",
    "    else:\n",
    "        return 'new'\n"
   ]
  },
  {
   "cell_type": "code",
   "execution_count": 124,
   "metadata": {},
   "outputs": [],
   "source": [
    "df['GarageYrBlt'] = df['GarageYrBlt'].apply(garageYear2Cat)\n",
    "dft['GarageYrBlt'] = dft['GarageYrBlt'].apply(garageYear2Cat)\n"
   ]
  },
  {
   "cell_type": "code",
   "execution_count": 86,
   "metadata": {},
   "outputs": [
    {
     "data": {
      "text/plain": [
       "moderate    609\n",
       "new         401\n",
       "old         368\n",
       "NA           81\n",
       "Name: GarageYrBlt, dtype: int64"
      ]
     },
     "execution_count": 86,
     "metadata": {},
     "output_type": "execute_result"
    }
   ],
   "source": [
    "df['GarageYrBlt'].value_counts()"
   ]
  },
  {
   "cell_type": "code",
   "execution_count": 87,
   "metadata": {},
   "outputs": [
    {
     "data": {
      "text/plain": [
       "Index([], dtype='object')"
      ]
     },
     "execution_count": 87,
     "metadata": {},
     "output_type": "execute_result"
    }
   ],
   "source": [
    "df[df.columns[np.where(df.isna().sum()>0)[0]]].select_dtypes(include='object').columns"
   ]
  },
  {
   "cell_type": "code",
   "execution_count": 293,
   "metadata": {},
   "outputs": [],
   "source": [
    "# Create a class to handle the preprocessing\n",
    "class Preprocessor(sklearn.base.TransformerMixin):\n",
    "    def __init__(self):\n",
    "\n",
    "        self.catcols = ['Alley', 'MasVnrType', 'BsmtQual', 'BsmtCond', 'BsmtExposure',\n",
    "                       'BsmtFinType1', 'BsmtFinType2', 'FireplaceQu',\n",
    "                       'GarageType', 'GarageFinish', 'GarageQual', 'GarageCond', 'PoolQC',\n",
    "                       'Fence', 'MiscFeature']\n",
    "        self.numcols = ['LotFrontage', 'MasVnrArea']\n",
    "        self.cols2removerowsfrom = ['Electrical']\n",
    "        self.cols2remove = []\n",
    "        \n",
    "        self.num2cat = ['GarageYrBlt']\n",
    "        self.num2catfn = [self._garageYear2Cat]\n",
    "        \n",
    "    def fit(self, X, y=None):\n",
    "        return self\n",
    "    \n",
    "    def _garageYear2Cat(self, x):\n",
    "        if np.isnan(x):\n",
    "            return 'NA'\n",
    "\n",
    "        if x<1963:\n",
    "            return 'old'\n",
    "        if (x>=1963) and (x<=1999):\n",
    "            return 'moderate'\n",
    "        else:\n",
    "            return 'new'\n",
    "    \n",
    "    \n",
    "    def transform(self, X, y=None):\n",
    "        updated_X = X.copy()\n",
    "        updated_X[self.catcols] = updated_X[self.catcols].fillna('NA')\n",
    "        updated_X.drop(self.cols2remove, axis=1, inplace=True)\n",
    "        # updated_X.drop(updated_X.index[np.where(updated_X[self.cols2removerowsfrom].isna())[0]], inplace=True)\n",
    "        updated_X[self.numcols] = updated_X[self.numcols].fillna(0.0)\n",
    "        for col, fn in zip(self.num2cat, self.num2catfn):\n",
    "            updated_X[col] = updated_X[col].apply(fn)\n",
    "        \n",
    "        # Special case\n",
    "        updated_X['MasVnrType'] = updated_X['MasVnrType'].fillna('NA') # Replace nans with 'NA'\n",
    "        updated_X.loc[(updated_X['MasVnrType']=='None'),'MasVnrType'] = 'NA' # Update the None values with NA as well to keep the same NA valye\n",
    "\n",
    "        \n",
    "        return updated_X\n",
    "    \n",
    "    def fit_transform(self, X, y=None):\n",
    "        return self.transform(X)"
   ]
  },
  {
   "cell_type": "code",
   "execution_count": 238,
   "metadata": {
    "collapsed": true,
    "jupyter": {
     "outputs_hidden": true
    },
    "tags": []
   },
   "outputs": [
    {
     "ename": "TypeError",
     "evalue": "ufunc 'isnan' not supported for the input types, and the inputs could not be safely coerced to any supported types according to the casting rule ''safe''",
     "output_type": "error",
     "traceback": [
      "\u001b[1;31m---------------------------------------------------------------------------\u001b[0m",
      "\u001b[1;31mTypeError\u001b[0m                                 Traceback (most recent call last)",
      "\u001b[1;32m~\\AppData\\Local\\Temp/ipykernel_60192/762165973.py\u001b[0m in \u001b[0;36m<module>\u001b[1;34m\u001b[0m\n\u001b[0;32m      1\u001b[0m \u001b[0mp\u001b[0m \u001b[1;33m=\u001b[0m \u001b[0mPreprocessor\u001b[0m\u001b[1;33m(\u001b[0m\u001b[1;33m)\u001b[0m\u001b[1;33m\u001b[0m\u001b[1;33m\u001b[0m\u001b[0m\n\u001b[1;32m----> 2\u001b[1;33m \u001b[0mX\u001b[0m \u001b[1;33m=\u001b[0m \u001b[0mp\u001b[0m\u001b[1;33m.\u001b[0m\u001b[0mtransform\u001b[0m\u001b[1;33m(\u001b[0m\u001b[0mdf\u001b[0m\u001b[1;33m)\u001b[0m\u001b[1;33m\u001b[0m\u001b[1;33m\u001b[0m\u001b[0m\n\u001b[0m",
      "\u001b[1;32m~\\AppData\\Local\\Temp/ipykernel_60192/2671434992.py\u001b[0m in \u001b[0;36mtransform\u001b[1;34m(self, X)\u001b[0m\n\u001b[0;32m     25\u001b[0m         \u001b[0mupdated_X\u001b[0m\u001b[1;33m[\u001b[0m\u001b[0mself\u001b[0m\u001b[1;33m.\u001b[0m\u001b[0mnumcols\u001b[0m\u001b[1;33m]\u001b[0m \u001b[1;33m=\u001b[0m \u001b[0mupdated_X\u001b[0m\u001b[1;33m[\u001b[0m\u001b[0mself\u001b[0m\u001b[1;33m.\u001b[0m\u001b[0mnumcols\u001b[0m\u001b[1;33m]\u001b[0m\u001b[1;33m.\u001b[0m\u001b[0mfillna\u001b[0m\u001b[1;33m(\u001b[0m\u001b[1;36m0.0\u001b[0m\u001b[1;33m)\u001b[0m\u001b[1;33m\u001b[0m\u001b[1;33m\u001b[0m\u001b[0m\n\u001b[0;32m     26\u001b[0m         \u001b[1;32mfor\u001b[0m \u001b[0mcol\u001b[0m\u001b[1;33m,\u001b[0m \u001b[0mfn\u001b[0m \u001b[1;32min\u001b[0m \u001b[0mzip\u001b[0m\u001b[1;33m(\u001b[0m\u001b[0mself\u001b[0m\u001b[1;33m.\u001b[0m\u001b[0mnum2cat\u001b[0m\u001b[1;33m,\u001b[0m \u001b[0mself\u001b[0m\u001b[1;33m.\u001b[0m\u001b[0mnum2catfn\u001b[0m\u001b[1;33m)\u001b[0m\u001b[1;33m:\u001b[0m\u001b[1;33m\u001b[0m\u001b[1;33m\u001b[0m\u001b[0m\n\u001b[1;32m---> 27\u001b[1;33m             \u001b[0mupdated_X\u001b[0m\u001b[1;33m[\u001b[0m\u001b[0mcol\u001b[0m\u001b[1;33m]\u001b[0m \u001b[1;33m=\u001b[0m \u001b[0mupdated_X\u001b[0m\u001b[1;33m[\u001b[0m\u001b[0mcol\u001b[0m\u001b[1;33m]\u001b[0m\u001b[1;33m.\u001b[0m\u001b[0mapply\u001b[0m\u001b[1;33m(\u001b[0m\u001b[0mfn\u001b[0m\u001b[1;33m)\u001b[0m\u001b[1;33m\u001b[0m\u001b[1;33m\u001b[0m\u001b[0m\n\u001b[0m\u001b[0;32m     28\u001b[0m \u001b[1;33m\u001b[0m\u001b[0m\n\u001b[0;32m     29\u001b[0m         \u001b[1;31m# Special case\u001b[0m\u001b[1;33m\u001b[0m\u001b[1;33m\u001b[0m\u001b[1;33m\u001b[0m\u001b[0m\n",
      "\u001b[1;32m~\\.conda\\envs\\pyalgo\\lib\\site-packages\\pandas\\core\\series.py\u001b[0m in \u001b[0;36mapply\u001b[1;34m(self, func, convert_dtype, args, **kwargs)\u001b[0m\n\u001b[0;32m   4355\u001b[0m         \u001b[0mdtype\u001b[0m\u001b[1;33m:\u001b[0m \u001b[0mfloat64\u001b[0m\u001b[1;33m\u001b[0m\u001b[1;33m\u001b[0m\u001b[0m\n\u001b[0;32m   4356\u001b[0m         \"\"\"\n\u001b[1;32m-> 4357\u001b[1;33m         \u001b[1;32mreturn\u001b[0m \u001b[0mSeriesApply\u001b[0m\u001b[1;33m(\u001b[0m\u001b[0mself\u001b[0m\u001b[1;33m,\u001b[0m \u001b[0mfunc\u001b[0m\u001b[1;33m,\u001b[0m \u001b[0mconvert_dtype\u001b[0m\u001b[1;33m,\u001b[0m \u001b[0margs\u001b[0m\u001b[1;33m,\u001b[0m \u001b[0mkwargs\u001b[0m\u001b[1;33m)\u001b[0m\u001b[1;33m.\u001b[0m\u001b[0mapply\u001b[0m\u001b[1;33m(\u001b[0m\u001b[1;33m)\u001b[0m\u001b[1;33m\u001b[0m\u001b[1;33m\u001b[0m\u001b[0m\n\u001b[0m\u001b[0;32m   4358\u001b[0m \u001b[1;33m\u001b[0m\u001b[0m\n\u001b[0;32m   4359\u001b[0m     def _reduce(\n",
      "\u001b[1;32m~\\.conda\\envs\\pyalgo\\lib\\site-packages\\pandas\\core\\apply.py\u001b[0m in \u001b[0;36mapply\u001b[1;34m(self)\u001b[0m\n\u001b[0;32m   1041\u001b[0m             \u001b[1;32mreturn\u001b[0m \u001b[0mself\u001b[0m\u001b[1;33m.\u001b[0m\u001b[0mapply_str\u001b[0m\u001b[1;33m(\u001b[0m\u001b[1;33m)\u001b[0m\u001b[1;33m\u001b[0m\u001b[1;33m\u001b[0m\u001b[0m\n\u001b[0;32m   1042\u001b[0m \u001b[1;33m\u001b[0m\u001b[0m\n\u001b[1;32m-> 1043\u001b[1;33m         \u001b[1;32mreturn\u001b[0m \u001b[0mself\u001b[0m\u001b[1;33m.\u001b[0m\u001b[0mapply_standard\u001b[0m\u001b[1;33m(\u001b[0m\u001b[1;33m)\u001b[0m\u001b[1;33m\u001b[0m\u001b[1;33m\u001b[0m\u001b[0m\n\u001b[0m\u001b[0;32m   1044\u001b[0m \u001b[1;33m\u001b[0m\u001b[0m\n\u001b[0;32m   1045\u001b[0m     \u001b[1;32mdef\u001b[0m \u001b[0magg\u001b[0m\u001b[1;33m(\u001b[0m\u001b[0mself\u001b[0m\u001b[1;33m)\u001b[0m\u001b[1;33m:\u001b[0m\u001b[1;33m\u001b[0m\u001b[1;33m\u001b[0m\u001b[0m\n",
      "\u001b[1;32m~\\.conda\\envs\\pyalgo\\lib\\site-packages\\pandas\\core\\apply.py\u001b[0m in \u001b[0;36mapply_standard\u001b[1;34m(self)\u001b[0m\n\u001b[0;32m   1097\u001b[0m                 \u001b[1;31m# List[Union[Callable[..., Any], str]]]]]\"; expected\u001b[0m\u001b[1;33m\u001b[0m\u001b[1;33m\u001b[0m\u001b[1;33m\u001b[0m\u001b[0m\n\u001b[0;32m   1098\u001b[0m                 \u001b[1;31m# \"Callable[[Any], Any]\"\u001b[0m\u001b[1;33m\u001b[0m\u001b[1;33m\u001b[0m\u001b[1;33m\u001b[0m\u001b[0m\n\u001b[1;32m-> 1099\u001b[1;33m                 mapped = lib.map_infer(\n\u001b[0m\u001b[0;32m   1100\u001b[0m                     \u001b[0mvalues\u001b[0m\u001b[1;33m,\u001b[0m\u001b[1;33m\u001b[0m\u001b[1;33m\u001b[0m\u001b[0m\n\u001b[0;32m   1101\u001b[0m                     \u001b[0mf\u001b[0m\u001b[1;33m,\u001b[0m  \u001b[1;31m# type: ignore[arg-type]\u001b[0m\u001b[1;33m\u001b[0m\u001b[1;33m\u001b[0m\u001b[0m\n",
      "\u001b[1;32m~\\.conda\\envs\\pyalgo\\lib\\site-packages\\pandas\\_libs\\lib.pyx\u001b[0m in \u001b[0;36mpandas._libs.lib.map_infer\u001b[1;34m()\u001b[0m\n",
      "\u001b[1;32m~\\AppData\\Local\\Temp/ipykernel_60192/329205032.py\u001b[0m in \u001b[0;36mgarageYear2Cat\u001b[1;34m(x)\u001b[0m\n\u001b[0;32m      1\u001b[0m \u001b[1;32mdef\u001b[0m \u001b[0mgarageYear2Cat\u001b[0m\u001b[1;33m(\u001b[0m\u001b[0mx\u001b[0m\u001b[1;33m)\u001b[0m\u001b[1;33m:\u001b[0m\u001b[1;33m\u001b[0m\u001b[1;33m\u001b[0m\u001b[0m\n\u001b[1;32m----> 2\u001b[1;33m     \u001b[1;32mif\u001b[0m \u001b[0mnp\u001b[0m\u001b[1;33m.\u001b[0m\u001b[0misnan\u001b[0m\u001b[1;33m(\u001b[0m\u001b[0mx\u001b[0m\u001b[1;33m)\u001b[0m\u001b[1;33m:\u001b[0m\u001b[1;33m\u001b[0m\u001b[1;33m\u001b[0m\u001b[0m\n\u001b[0m\u001b[0;32m      3\u001b[0m         \u001b[1;32mreturn\u001b[0m \u001b[1;34m'NA'\u001b[0m\u001b[1;33m\u001b[0m\u001b[1;33m\u001b[0m\u001b[0m\n\u001b[0;32m      4\u001b[0m \u001b[1;33m\u001b[0m\u001b[0m\n\u001b[0;32m      5\u001b[0m     \u001b[1;32mif\u001b[0m \u001b[0mx\u001b[0m\u001b[1;33m<\u001b[0m\u001b[1;36m1963\u001b[0m\u001b[1;33m:\u001b[0m\u001b[1;33m\u001b[0m\u001b[1;33m\u001b[0m\u001b[0m\n",
      "\u001b[1;31mTypeError\u001b[0m: ufunc 'isnan' not supported for the input types, and the inputs could not be safely coerced to any supported types according to the casting rule ''safe''"
     ]
    }
   ],
   "source": [
    "p = Preprocessor()\n",
    "X = p.transform(df)"
   ]
  },
  {
   "cell_type": "code",
   "execution_count": 239,
   "metadata": {},
   "outputs": [
    {
     "data": {
      "text/plain": [
       "True"
      ]
     },
     "execution_count": 239,
     "metadata": {},
     "output_type": "execute_result"
    }
   ],
   "source": [
    "df.equals(X)"
   ]
  },
  {
   "cell_type": "code",
   "execution_count": 178,
   "metadata": {},
   "outputs": [],
   "source": [
    "for col in df.columns:\n",
    "    if (df[col] != X[col]).sum() > 0:\n",
    "        print(col)"
   ]
  },
  {
   "cell_type": "code",
   "execution_count": 181,
   "metadata": {},
   "outputs": [
    {
     "data": {
      "text/plain": [
       "0"
      ]
     },
     "execution_count": 181,
     "metadata": {},
     "output_type": "execute_result"
    }
   ],
   "source": [
    "df.isna().sum().sum() # If it is 0, then we are good to go"
   ]
  },
  {
   "cell_type": "code",
   "execution_count": 88,
   "metadata": {},
   "outputs": [],
   "source": [
    "df.set_index('Id', inplace=True)"
   ]
  },
  {
   "cell_type": "code",
   "execution_count": 17,
   "metadata": {},
   "outputs": [],
   "source": [
    "df.to_csv('./data/clean_data.csv')"
   ]
  },
  {
   "cell_type": "code",
   "execution_count": 89,
   "metadata": {},
   "outputs": [],
   "source": [
    "np.random.seed(101)\n",
    "df_test = df.sample(frac=0.2)\n",
    "df_train = df.drop(df_test.index)"
   ]
  },
  {
   "cell_type": "code",
   "execution_count": 90,
   "metadata": {},
   "outputs": [
    {
     "data": {
      "text/html": [
       "<div>\n",
       "<style scoped>\n",
       "    .dataframe tbody tr th:only-of-type {\n",
       "        vertical-align: middle;\n",
       "    }\n",
       "\n",
       "    .dataframe tbody tr th {\n",
       "        vertical-align: top;\n",
       "    }\n",
       "\n",
       "    .dataframe thead th {\n",
       "        text-align: right;\n",
       "    }\n",
       "</style>\n",
       "<table border=\"1\" class=\"dataframe\">\n",
       "  <thead>\n",
       "    <tr style=\"text-align: right;\">\n",
       "      <th></th>\n",
       "      <th>MSSubClass</th>\n",
       "      <th>MSZoning</th>\n",
       "      <th>LotFrontage</th>\n",
       "      <th>LotArea</th>\n",
       "      <th>Street</th>\n",
       "      <th>Alley</th>\n",
       "      <th>LotShape</th>\n",
       "      <th>LandContour</th>\n",
       "      <th>Utilities</th>\n",
       "      <th>LotConfig</th>\n",
       "      <th>...</th>\n",
       "      <th>PoolArea</th>\n",
       "      <th>PoolQC</th>\n",
       "      <th>Fence</th>\n",
       "      <th>MiscFeature</th>\n",
       "      <th>MiscVal</th>\n",
       "      <th>MoSold</th>\n",
       "      <th>YrSold</th>\n",
       "      <th>SaleType</th>\n",
       "      <th>SaleCondition</th>\n",
       "      <th>SalePrice</th>\n",
       "    </tr>\n",
       "    <tr>\n",
       "      <th>Id</th>\n",
       "      <th></th>\n",
       "      <th></th>\n",
       "      <th></th>\n",
       "      <th></th>\n",
       "      <th></th>\n",
       "      <th></th>\n",
       "      <th></th>\n",
       "      <th></th>\n",
       "      <th></th>\n",
       "      <th></th>\n",
       "      <th></th>\n",
       "      <th></th>\n",
       "      <th></th>\n",
       "      <th></th>\n",
       "      <th></th>\n",
       "      <th></th>\n",
       "      <th></th>\n",
       "      <th></th>\n",
       "      <th></th>\n",
       "      <th></th>\n",
       "      <th></th>\n",
       "    </tr>\n",
       "  </thead>\n",
       "  <tbody>\n",
       "    <tr>\n",
       "      <th>2</th>\n",
       "      <td>20</td>\n",
       "      <td>RL</td>\n",
       "      <td>80.0</td>\n",
       "      <td>9600</td>\n",
       "      <td>Pave</td>\n",
       "      <td>NA</td>\n",
       "      <td>Reg</td>\n",
       "      <td>Lvl</td>\n",
       "      <td>AllPub</td>\n",
       "      <td>FR2</td>\n",
       "      <td>...</td>\n",
       "      <td>0</td>\n",
       "      <td>NA</td>\n",
       "      <td>NA</td>\n",
       "      <td>NA</td>\n",
       "      <td>0</td>\n",
       "      <td>5</td>\n",
       "      <td>2007</td>\n",
       "      <td>WD</td>\n",
       "      <td>Normal</td>\n",
       "      <td>181500</td>\n",
       "    </tr>\n",
       "    <tr>\n",
       "      <th>4</th>\n",
       "      <td>70</td>\n",
       "      <td>RL</td>\n",
       "      <td>60.0</td>\n",
       "      <td>9550</td>\n",
       "      <td>Pave</td>\n",
       "      <td>NA</td>\n",
       "      <td>IR1</td>\n",
       "      <td>Lvl</td>\n",
       "      <td>AllPub</td>\n",
       "      <td>Corner</td>\n",
       "      <td>...</td>\n",
       "      <td>0</td>\n",
       "      <td>NA</td>\n",
       "      <td>NA</td>\n",
       "      <td>NA</td>\n",
       "      <td>0</td>\n",
       "      <td>2</td>\n",
       "      <td>2006</td>\n",
       "      <td>WD</td>\n",
       "      <td>Abnorml</td>\n",
       "      <td>140000</td>\n",
       "    </tr>\n",
       "    <tr>\n",
       "      <th>5</th>\n",
       "      <td>60</td>\n",
       "      <td>RL</td>\n",
       "      <td>84.0</td>\n",
       "      <td>14260</td>\n",
       "      <td>Pave</td>\n",
       "      <td>NA</td>\n",
       "      <td>IR1</td>\n",
       "      <td>Lvl</td>\n",
       "      <td>AllPub</td>\n",
       "      <td>FR2</td>\n",
       "      <td>...</td>\n",
       "      <td>0</td>\n",
       "      <td>NA</td>\n",
       "      <td>NA</td>\n",
       "      <td>NA</td>\n",
       "      <td>0</td>\n",
       "      <td>12</td>\n",
       "      <td>2008</td>\n",
       "      <td>WD</td>\n",
       "      <td>Normal</td>\n",
       "      <td>250000</td>\n",
       "    </tr>\n",
       "    <tr>\n",
       "      <th>6</th>\n",
       "      <td>50</td>\n",
       "      <td>RL</td>\n",
       "      <td>85.0</td>\n",
       "      <td>14115</td>\n",
       "      <td>Pave</td>\n",
       "      <td>NA</td>\n",
       "      <td>IR1</td>\n",
       "      <td>Lvl</td>\n",
       "      <td>AllPub</td>\n",
       "      <td>Inside</td>\n",
       "      <td>...</td>\n",
       "      <td>0</td>\n",
       "      <td>NA</td>\n",
       "      <td>MnPrv</td>\n",
       "      <td>Shed</td>\n",
       "      <td>700</td>\n",
       "      <td>10</td>\n",
       "      <td>2009</td>\n",
       "      <td>WD</td>\n",
       "      <td>Normal</td>\n",
       "      <td>143000</td>\n",
       "    </tr>\n",
       "    <tr>\n",
       "      <th>7</th>\n",
       "      <td>20</td>\n",
       "      <td>RL</td>\n",
       "      <td>75.0</td>\n",
       "      <td>10084</td>\n",
       "      <td>Pave</td>\n",
       "      <td>NA</td>\n",
       "      <td>Reg</td>\n",
       "      <td>Lvl</td>\n",
       "      <td>AllPub</td>\n",
       "      <td>Inside</td>\n",
       "      <td>...</td>\n",
       "      <td>0</td>\n",
       "      <td>NA</td>\n",
       "      <td>NA</td>\n",
       "      <td>NA</td>\n",
       "      <td>0</td>\n",
       "      <td>8</td>\n",
       "      <td>2007</td>\n",
       "      <td>WD</td>\n",
       "      <td>Normal</td>\n",
       "      <td>307000</td>\n",
       "    </tr>\n",
       "  </tbody>\n",
       "</table>\n",
       "<p>5 rows × 80 columns</p>\n",
       "</div>"
      ],
      "text/plain": [
       "    MSSubClass MSZoning  LotFrontage  LotArea Street Alley LotShape  \\\n",
       "Id                                                                    \n",
       "2           20       RL         80.0     9600   Pave    NA      Reg   \n",
       "4           70       RL         60.0     9550   Pave    NA      IR1   \n",
       "5           60       RL         84.0    14260   Pave    NA      IR1   \n",
       "6           50       RL         85.0    14115   Pave    NA      IR1   \n",
       "7           20       RL         75.0    10084   Pave    NA      Reg   \n",
       "\n",
       "   LandContour Utilities LotConfig  ... PoolArea PoolQC  Fence MiscFeature  \\\n",
       "Id                                  ...                                      \n",
       "2          Lvl    AllPub       FR2  ...        0     NA     NA          NA   \n",
       "4          Lvl    AllPub    Corner  ...        0     NA     NA          NA   \n",
       "5          Lvl    AllPub       FR2  ...        0     NA     NA          NA   \n",
       "6          Lvl    AllPub    Inside  ...        0     NA  MnPrv        Shed   \n",
       "7          Lvl    AllPub    Inside  ...        0     NA     NA          NA   \n",
       "\n",
       "   MiscVal MoSold  YrSold  SaleType  SaleCondition  SalePrice  \n",
       "Id                                                             \n",
       "2        0      5    2007        WD         Normal     181500  \n",
       "4        0      2    2006        WD        Abnorml     140000  \n",
       "5        0     12    2008        WD         Normal     250000  \n",
       "6      700     10    2009        WD         Normal     143000  \n",
       "7        0      8    2007        WD         Normal     307000  \n",
       "\n",
       "[5 rows x 80 columns]"
      ]
     },
     "execution_count": 90,
     "metadata": {},
     "output_type": "execute_result"
    }
   ],
   "source": [
    "df_train.head()"
   ]
  },
  {
   "cell_type": "code",
   "execution_count": 270,
   "metadata": {
    "collapsed": true,
    "jupyter": {
     "outputs_hidden": true
    },
    "tags": []
   },
   "outputs": [
    {
     "name": "stdout",
     "output_type": "stream",
     "text": [
      "<class 'pandas.core.frame.DataFrame'>\n",
      "Int64Index: 1167 entries, 1 to 1459\n",
      "Data columns (total 81 columns):\n",
      " #   Column         Non-Null Count  Dtype  \n",
      "---  ------         --------------  -----  \n",
      " 0   Id             1167 non-null   int64  \n",
      " 1   MSSubClass     1167 non-null   int64  \n",
      " 2   MSZoning       1167 non-null   object \n",
      " 3   LotFrontage    1167 non-null   float64\n",
      " 4   LotArea        1167 non-null   int64  \n",
      " 5   Street         1167 non-null   object \n",
      " 6   Alley          1167 non-null   object \n",
      " 7   LotShape       1167 non-null   object \n",
      " 8   LandContour    1167 non-null   object \n",
      " 9   Utilities      1167 non-null   object \n",
      " 10  LotConfig      1167 non-null   object \n",
      " 11  LandSlope      1167 non-null   object \n",
      " 12  Neighborhood   1167 non-null   object \n",
      " 13  Condition1     1167 non-null   object \n",
      " 14  Condition2     1167 non-null   object \n",
      " 15  BldgType       1167 non-null   object \n",
      " 16  HouseStyle     1167 non-null   object \n",
      " 17  OverallQual    1167 non-null   int64  \n",
      " 18  OverallCond    1167 non-null   int64  \n",
      " 19  YearBuilt      1167 non-null   int64  \n",
      " 20  YearRemodAdd   1167 non-null   int64  \n",
      " 21  RoofStyle      1167 non-null   object \n",
      " 22  RoofMatl       1167 non-null   object \n",
      " 23  Exterior1st    1167 non-null   object \n",
      " 24  Exterior2nd    1167 non-null   object \n",
      " 25  MasVnrType     1167 non-null   object \n",
      " 26  MasVnrArea     1167 non-null   float64\n",
      " 27  ExterQual      1167 non-null   object \n",
      " 28  ExterCond      1167 non-null   object \n",
      " 29  Foundation     1167 non-null   object \n",
      " 30  BsmtQual       1167 non-null   object \n",
      " 31  BsmtCond       1167 non-null   object \n",
      " 32  BsmtExposure   1167 non-null   object \n",
      " 33  BsmtFinType1   1167 non-null   object \n",
      " 34  BsmtFinSF1     1167 non-null   int64  \n",
      " 35  BsmtFinType2   1167 non-null   object \n",
      " 36  BsmtFinSF2     1167 non-null   int64  \n",
      " 37  BsmtUnfSF      1167 non-null   int64  \n",
      " 38  TotalBsmtSF    1167 non-null   int64  \n",
      " 39  Heating        1167 non-null   object \n",
      " 40  HeatingQC      1167 non-null   object \n",
      " 41  CentralAir     1167 non-null   object \n",
      " 42  Electrical     1167 non-null   object \n",
      " 43  1stFlrSF       1167 non-null   int64  \n",
      " 44  2ndFlrSF       1167 non-null   int64  \n",
      " 45  LowQualFinSF   1167 non-null   int64  \n",
      " 46  GrLivArea      1167 non-null   int64  \n",
      " 47  BsmtFullBath   1167 non-null   int64  \n",
      " 48  BsmtHalfBath   1167 non-null   int64  \n",
      " 49  FullBath       1167 non-null   int64  \n",
      " 50  HalfBath       1167 non-null   int64  \n",
      " 51  BedroomAbvGr   1167 non-null   int64  \n",
      " 52  KitchenAbvGr   1167 non-null   int64  \n",
      " 53  KitchenQual    1167 non-null   object \n",
      " 54  TotRmsAbvGrd   1167 non-null   int64  \n",
      " 55  Functional     1167 non-null   object \n",
      " 56  Fireplaces     1167 non-null   int64  \n",
      " 57  FireplaceQu    1167 non-null   object \n",
      " 58  GarageType     1167 non-null   object \n",
      " 59  GarageYrBlt    1167 non-null   object \n",
      " 60  GarageFinish   1167 non-null   object \n",
      " 61  GarageCars     1167 non-null   int64  \n",
      " 62  GarageArea     1167 non-null   int64  \n",
      " 63  GarageQual     1167 non-null   object \n",
      " 64  GarageCond     1167 non-null   object \n",
      " 65  PavedDrive     1167 non-null   object \n",
      " 66  WoodDeckSF     1167 non-null   int64  \n",
      " 67  OpenPorchSF    1167 non-null   int64  \n",
      " 68  EnclosedPorch  1167 non-null   int64  \n",
      " 69  3SsnPorch      1167 non-null   int64  \n",
      " 70  ScreenPorch    1167 non-null   int64  \n",
      " 71  PoolArea       1167 non-null   int64  \n",
      " 72  PoolQC         1167 non-null   object \n",
      " 73  Fence          1167 non-null   object \n",
      " 74  MiscFeature    1167 non-null   object \n",
      " 75  MiscVal        1167 non-null   int64  \n",
      " 76  MoSold         1167 non-null   int64  \n",
      " 77  YrSold         1167 non-null   int64  \n",
      " 78  SaleType       1167 non-null   object \n",
      " 79  SaleCondition  1167 non-null   object \n",
      " 80  SalePrice      1167 non-null   int64  \n",
      "dtypes: float64(2), int64(35), object(44)\n",
      "memory usage: 747.6+ KB\n"
     ]
    }
   ],
   "source": [
    "df_train.info()"
   ]
  },
  {
   "cell_type": "code",
   "execution_count": 91,
   "metadata": {},
   "outputs": [],
   "source": [
    "cat_cols = df_train.select_dtypes(include=['object']).columns\n",
    "num_cols = set(df_train.columns)-set(cat_cols)"
   ]
  },
  {
   "cell_type": "code",
   "execution_count": 92,
   "metadata": {},
   "outputs": [
    {
     "data": {
      "text/plain": [
       "(44, 36)"
      ]
     },
     "execution_count": 92,
     "metadata": {},
     "output_type": "execute_result"
    }
   ],
   "source": [
    "len(cat_cols), len(num_cols)"
   ]
  },
  {
   "cell_type": "code",
   "execution_count": 93,
   "metadata": {},
   "outputs": [
    {
     "data": {
      "text/plain": [
       "count    44.000000\n",
       "mean      6.022727\n",
       "std       4.008646\n",
       "min       2.000000\n",
       "25%       4.000000\n",
       "50%       5.000000\n",
       "75%       6.250000\n",
       "max      25.000000\n",
       "dtype: float64"
      ]
     },
     "execution_count": 93,
     "metadata": {},
     "output_type": "execute_result"
    }
   ],
   "source": [
    "df_train[cat_cols].nunique().describe()"
   ]
  },
  {
   "cell_type": "code",
   "execution_count": 94,
   "metadata": {},
   "outputs": [
    {
     "data": {
      "text/plain": [
       "count    44.000000\n",
       "mean     13.613636\n",
       "std      18.064762\n",
       "min       1.000000\n",
       "25%       1.000000\n",
       "50%       5.000000\n",
       "75%      23.750000\n",
       "max      73.000000\n",
       "Name: min, dtype: float64"
      ]
     },
     "execution_count": 94,
     "metadata": {},
     "output_type": "execute_result"
    }
   ],
   "source": [
    "col_min_max = {}\n",
    "for col in cat_cols:\n",
    "    cnts = df_train[col].value_counts()\n",
    "    col_min_max[col] = [cnts.min(), cnts.max()]\n",
    "\n",
    "pd.DataFrame(col_min_max, index=['min','max']).iloc[0,:].describe()\n",
    "# Picking threshold 20"
   ]
  },
  {
   "cell_type": "code",
   "execution_count": 95,
   "metadata": {},
   "outputs": [],
   "source": [
    "# First hyper parameter (lower limit to exclude categorical values to limit the date dimensionality)\n",
    "threshold=20\n",
    "for col in cat_cols:\n",
    "    idx = np.where(df_train[col].value_counts() < threshold)\n",
    "    old_values = df_train[col].value_counts().index[idx]\n",
    "    df_train[col] = df_train[col].apply(lambda x: 'other' if x in old_values.tolist() else x)"
   ]
  },
  {
   "cell_type": "code",
   "execution_count": 96,
   "metadata": {},
   "outputs": [
    {
     "data": {
      "text/plain": [
       "['Family', 'Alloca', 'AdjLand']"
      ]
     },
     "execution_count": 96,
     "metadata": {},
     "output_type": "execute_result"
    }
   ],
   "source": [
    "old_values.to_list()"
   ]
  },
  {
   "cell_type": "code",
   "execution_count": 135,
   "metadata": {},
   "outputs": [
    {
     "name": "stdout",
     "output_type": "stream",
     "text": [
      "199\n"
     ]
    }
   ],
   "source": [
    "# Calculate the new dimensionality\n",
    "added_dims = 0\n",
    "for cat in cat_cols:\n",
    "    added_dims += df_train[cat].nunique()\n",
    "print(added_dims)"
   ]
  },
  {
   "cell_type": "code",
   "execution_count": 345,
   "metadata": {},
   "outputs": [],
   "source": [
    "class RemoveLowFreqCategories(sklearn.base.TransformerMixin):\n",
    "    def __init__(self, threshold=20, cat_cols=[]):\n",
    "        self.threshold = threshold \n",
    "        self.cat_cols=cat_cols\n",
    "        self.old_vals_ = {}\n",
    "        \n",
    "    def fit(self, X, y=None):\n",
    "        # First hyper parameter (lower limit to exclude categorical values to limit the date dimensionality)\n",
    "        for col in cat_cols:\n",
    "            idx = np.where(X[col].value_counts() < self.threshold)\n",
    "            old_values = X[col].value_counts().index[idx]\n",
    "            self.old_vals_[cat] = old_values\n",
    "            # X[col] = X[col].apply(lambda x: 'other' if x in old_values.tolist() else x)\n",
    "        return self\n",
    "    \n",
    "    def transform(self, X, y=None):\n",
    "        # uX = X.copy()\n",
    "        # for col in self.cat_cols:\n",
    "        #     idx = np.where(uX[col].value_counts() < self.threshold)\n",
    "        #     old_values = uX[col].value_counts().index[idx]\n",
    "        #     uX[col] = uX[col].apply(lambda x: 'other' if x in old_values.tolist() else x)     \n",
    "        # return uX\n",
    "        return X\n",
    "    \n",
    "    def fit_transform(self, X, y=None):\n",
    "        uX = X.copy()\n",
    "        for col in cat_cols:\n",
    "            idx = np.where(X[col].value_counts() < self.threshold)\n",
    "            old_values = X[col].value_counts().index[idx]\n",
    "            self.old_vals_[cat] = old_values\n",
    "            X[col] = X[col].apply(lambda x: 'other' if x in old_values.tolist() else x)\n",
    "        return uX"
   ]
  },
  {
   "cell_type": "code",
   "execution_count": 97,
   "metadata": {},
   "outputs": [],
   "source": [
    "ohe_dict = {}\n",
    "for cat in cat_cols:\n",
    "    ohe = sklearn.preprocessing.OneHotEncoder(handle_unknown='ignore')\n",
    "    X_train_cat = pd.DataFrame(ohe.fit_transform(df_train[[cat]]).toarray(), index=df_train.index, columns=ohe.get_feature_names([cat]))\n",
    "    X_test_cat = pd.DataFrame(ohe.transform(df_test[[cat]]).toarray(), index=df_test.index, columns=ohe.get_feature_names([cat]))\n",
    "\n",
    "    df_train.drop(cat, axis=1, inplace=True)\n",
    "    df_test.drop(cat, axis=1, inplace=True)\n",
    "\n",
    "    df_train = pd.concat([df_train, X_train_cat], axis=1)\n",
    "    df_test = pd.concat([df_test, X_test_cat], axis=1)\n",
    "\n",
    "    ohe_dict[cat] = ohe"
   ]
  },
  {
   "cell_type": "code",
   "execution_count": 127,
   "metadata": {},
   "outputs": [],
   "source": [
    "for cat, ohe in ohe_dict.items():\n",
    "    Xt = pd.DataFrame(ohe.transform(dft[[cat]]).toarray(), index=dft.index, columns=ohe.get_feature_names([cat]))\n",
    "\n",
    "    dft.drop(cat, axis=1, inplace=True)\n",
    "\n",
    "    dft = pd.concat([dft, Xt], axis=1)\n"
   ]
  },
  {
   "cell_type": "code",
   "execution_count": 198,
   "metadata": {},
   "outputs": [],
   "source": [
    "# Embed the OHE in a class\n",
    "class CategoricalHandler(sklearn.base.TransformerMixin):\n",
    "    def __init__(self, catcols=[]):\n",
    "        self.catcols = catcols\n",
    "        self.ohe_dict_ = {}\n",
    "\n",
    "    def fit(self, X, y=None):\n",
    "        for cat in self.catcols:\n",
    "            ohe = sklearn.preprocessing.OneHotEncoder(handle_unknown='ignore')\n",
    "            ohe.fit(X)\n",
    "            self.ohe_dict_[cat] = ohe\n",
    "        return self\n",
    "    \n",
    "    def transform(self, X, y=None):\n",
    "        uX = X.copy()\n",
    "        for cat, ohe in self.ohe_dict_.items():\n",
    "            X_train_cat = pd.DataFrame(ohe.fit_transform(uX[[cat]]).toarray(), index=uX.index, columns=ohe.get_feature_names([cat]))\n",
    "            uX.drop(cat, axis=1, inplace=True)\n",
    "            uX = pd.concat([uX, X_train_cat], axis=1)\n",
    "        return uX\n",
    "    \n",
    "    def fit_transform(self, X, y=None):\n",
    "        uX = X.copy()\n",
    "        for cat in self.catcols:\n",
    "            ohe = sklearn.preprocessing.OneHotEncoder(handle_unknown='ignore')\n",
    "            X_train_cat = pd.DataFrame(ohe.fit_transform(uX[[cat]]).toarray(), index=uX.index, columns=ohe.get_feature_names([cat]))\n",
    "            uX.drop(cat, axis=1, inplace=True)\n",
    "            uX = pd.concat([uX, X_train_cat], axis=1)\n",
    "            self.ohe_dict_[cat] = ohe\n",
    "\n",
    "        return uX\n",
    "        "
   ]
  },
  {
   "cell_type": "code",
   "execution_count": 4,
   "metadata": {},
   "outputs": [],
   "source": [
    "# df_train.to_csv('./data/train_preprocessed.csv')\n",
    "df_train = pd.read_csv('./data/train_preprocessed.csv', index_col=0)"
   ]
  },
  {
   "cell_type": "code",
   "execution_count": 99,
   "metadata": {},
   "outputs": [
    {
     "data": {
      "text/plain": [
       "((1167, 235), (292, 235))"
      ]
     },
     "execution_count": 99,
     "metadata": {},
     "output_type": "execute_result"
    }
   ],
   "source": [
    "df_train.shape, df_test.shape"
   ]
  },
  {
   "cell_type": "code",
   "execution_count": 139,
   "metadata": {},
   "outputs": [],
   "source": [
    "df_tr = df_train.sample(frac=0.8)\n",
    "df_val = df_train.drop(df_tr.index)"
   ]
  },
  {
   "cell_type": "code",
   "execution_count": 140,
   "metadata": {},
   "outputs": [
    {
     "data": {
      "text/plain": [
       "((934, 235), (233, 235))"
      ]
     },
     "execution_count": 140,
     "metadata": {},
     "output_type": "execute_result"
    }
   ],
   "source": [
    "df_tr.shape, df_val.shape"
   ]
  },
  {
   "cell_type": "code",
   "execution_count": 141,
   "metadata": {},
   "outputs": [
    {
     "data": {
      "text/plain": [
       "['SalePrice']"
      ]
     },
     "execution_count": 141,
     "metadata": {},
     "output_type": "execute_result"
    }
   ],
   "source": [
    "list(filter(lambda x: 'price' in x.lower(), df_tr.columns))"
   ]
  },
  {
   "cell_type": "code",
   "execution_count": 101,
   "metadata": {},
   "outputs": [],
   "source": [
    "# Split X, y\n",
    "X_tr = df_train.drop('SalePrice', axis=1)\n",
    "y_tr = df_train[['SalePrice']]\n",
    "\n",
    "X_tes = df_test.drop('SalePrice', axis=1)\n",
    "y_tes = df_test[['SalePrice']]\n",
    "\n",
    "\n",
    "\n",
    "# X_val = df_val.drop('SalePrice', axis=1)\n",
    "# y_val = df_val['SalePrice']"
   ]
  },
  {
   "cell_type": "code",
   "execution_count": 7,
   "metadata": {},
   "outputs": [],
   "source": [
    "# Normalizer\n",
    "sc_std = sklearn.preprocessing.StandardScaler()\n",
    "sc_minmax = sklearn.preprocessing.MinMaxScaler()"
   ]
  },
  {
   "cell_type": "code",
   "execution_count": 128,
   "metadata": {},
   "outputs": [],
   "source": [
    "X_tr_std = sc_std.fit_transform(X_tr)\n",
    "X_test_std = sc_std.transform(X_tes)\n",
    "Xtft = sc_std.transform(dft)\n",
    "# X_val_std = sc_std.transform(X_val)\n",
    "# y_tr_std = sklearn.preprocessing.StandardScaler().fit_transform(y_tr)\n",
    "\n",
    "# X_tr_minmax = sc_minmax.fit_transform(X_tr)\n",
    "# X_val_minmax = sc_minmax.transform(X_val)"
   ]
  },
  {
   "cell_type": "code",
   "execution_count": 55,
   "metadata": {},
   "outputs": [],
   "source": [
    "# Perform the feature selection"
   ]
  },
  {
   "cell_type": "code",
   "execution_count": 9,
   "metadata": {},
   "outputs": [],
   "source": [
    "from sklearn.neighbors import KNeighborsRegressor\n",
    "from sklearn.neural_network import MLPRegressor"
   ]
  },
  {
   "cell_type": "code",
   "execution_count": 10,
   "metadata": {},
   "outputs": [],
   "source": [
    "from sklearn.model_selection import RandomizedSearchCV\n",
    "from sklearn.feature_selection import RFECV\n",
    "from skopt import BayesSearchCV\n",
    "from sklearn.linear_model import Ridge"
   ]
  },
  {
   "cell_type": "code",
   "execution_count": 11,
   "metadata": {},
   "outputs": [],
   "source": [
    "MAX_ITR = int(1e9)\n",
    "\n",
    "REG_DICT = {\n",
    "    'lsvm': lambda: sklearn.svm.LinearSVR(max_iter=MAX_ITR),\n",
    "    'ridge': lambda: Ridge(max_iter=MAX_ITR),\n",
    "    'knn': KNeighborsRegressor,\n",
    "    'xgb': xgboost.XGBRegressor,\n",
    "    'rf': sklearn.ensemble.RandomForestRegressor,\n",
    "    'svm': lambda: sklearn.svm.SVR(max_iter=MAX_ITR),\n",
    "    'nn': lambda: MLPRegressor(max_iter=MAX_ITR),\n",
    "    'gradboost': sklearn.ensemble.GradientBoostingRegressor\n",
    "}\n",
    "PARAM_GRID={\n",
    "    'lsvm': {\n",
    "        'penalty':['l1','l2'],\n",
    "        'loss':['epsilon_insensitive','squared_epsilon_insensitive'],\n",
    "        'C':[0.01, 0.1, 0.5, 1, 5, 10]\n",
    "    },\n",
    "\n",
    "    'xgb': {\n",
    "        'n_estimators': [5, 10, 50, 100, 200, 500],\n",
    "        'eta': [0.05, 0.01, 0.1, 0.3, 0.7, 1],\n",
    "        'max_depth': range(1, 16),\n",
    "        'booster':['gbtree','gblinear','dart'],\n",
    "        'min_child_weight': [0.01, 0.5, 1, 10],\n",
    "        'gamma': [0, 0.1, 1, 5, 50, 100],\n",
    "        'reg_alpha':[0, 0.001, 0.5, 1, 10],\n",
    "        'reg_lambda':[0, 0.001, 0.5, 1,  10],\n",
    "        'colsample_bytree': [0.6, 0.8, 1.0],\n",
    "    },\n",
    "    'ridge':{\n",
    "            'alpha':np.arange(0.1, 5, 0.1),\n",
    "            'normalize':[True, False],\n",
    "        },\n",
    "    'knn': {\n",
    "        'n_neighbors':np.arange(1,70, 2),\n",
    "        'weights':['uniform','distance'],\n",
    "        'leaf_size':np.arange(10,150, 10),\n",
    "        'p':np.arange(1,7),\n",
    "        'metric':['identifier','euclidean','manhattan','chebyshev','minkowski',\n",
    "                  'wminkowski','seuclidean','mahalanobis']\n",
    "        },\n",
    "    'gnb': {\n",
    "\n",
    "    },\n",
    "    'rf': {\n",
    "        'n_estimators':[50, 100, 200, 500, 1000],\n",
    "        'criterion':['gini','entropy'],\n",
    "        'max_features':['auto','sqrt'],\n",
    "        'min_samples_split':[2,5,10],\n",
    "        'min_samples_leaf':[0,0.1,0.2,0.3,0.4,0.5],\n",
    "        'bootstrap':[True,False]\n",
    "\n",
    "    },\n",
    "    'svm': {\n",
    "        'C':[0.1,1,5, 10],\n",
    "        'kernel':['poly','rbf','sigmoid'],\n",
    "        'degree':[2,3,4,5,6],\n",
    "        'gamma':['scale','auto'],\n",
    "        'coef0':[0.0,0.01,0.5,5,50,100]\n",
    "    },\n",
    "    'nn':{\n",
    "        'hidden_layer_sizes': [(150,100,50,), (100,50,25,), (100,)],\n",
    "        'activation': ['tanh', 'relu', 'logistic'],\n",
    "        'solver': ['sgd', 'adam'],\n",
    "        'alpha': [0.0001,0.001,0.01, 0.05, 0.1, 0.5],\n",
    "        'learning_rate': ['constant','adaptive'],\n",
    "        'beta_1':[0, 0.001, 0.01, 0.1, 0.3, 0.5, 0.9],\n",
    "        'beta_2':[0, 0.001, 0.01, 0.1, 0.3, 0.5, 0.9],\n",
    "    },\n",
    "    'gradboost':{\n",
    "        'loss':['deviance','exponential'],\n",
    "        'learning_rate':np.arange(0.1, 5, 0.1),\n",
    "        'n_estimators':np.arange(100,500,50),\n",
    "        'subsample':np.arange(0.5,1, 0.1),\n",
    "        'criterion':['mse','friedman_mse'],\n",
    "        'min_samples_split':np.arange(2,10, 1),\n",
    "        'min_samples_leaf':np.arange(1,10,1),\n",
    "        'max_depth':np.arange(3,50,1),\n",
    "        'warm_start':[True],\n",
    "    }\n",
    "}"
   ]
  },
  {
   "cell_type": "code",
   "execution_count": 12,
   "metadata": {},
   "outputs": [],
   "source": [
    "grid = RFECV(\n",
    "    REG_DICT['lsvm'](),\n",
    "    cv=5,\n",
    "    # return_train_score=True,\n",
    ")"
   ]
  },
  {
   "cell_type": "code",
   "execution_count": 17,
   "metadata": {},
   "outputs": [],
   "source": [
    "rfe = RFECV(REG_DICT['rf'](),cv=5)"
   ]
  },
  {
   "cell_type": "code",
   "execution_count": 18,
   "metadata": {
    "tags": []
   },
   "outputs": [
    {
     "data": {
      "text/plain": [
       "RFECV(cv=5, estimator=RandomForestRegressor())"
      ]
     },
     "execution_count": 18,
     "metadata": {},
     "output_type": "execute_result"
    }
   ],
   "source": [
    "rfe.fit(X_tr_std, y_tr)"
   ]
  },
  {
   "cell_type": "code",
   "execution_count": 19,
   "metadata": {},
   "outputs": [
    {
     "data": {
      "text/plain": [
       "array([0.6736888 , 0.70883043, 0.77536547, 0.80679758, 0.81690367,\n",
       "       0.82152827, 0.82590591, 0.83462594, 0.84219334, 0.84955615,\n",
       "       0.8482115 , 0.84789779, 0.84499985, 0.84993345, 0.84480278,\n",
       "       0.84535629, 0.84737012, 0.84826439, 0.84773639, 0.85131931,\n",
       "       0.85548586, 0.84991749, 0.85366412, 0.85252382, 0.85190655,\n",
       "       0.85192266, 0.85374481, 0.84858531, 0.85375297, 0.85008491,\n",
       "       0.85509477, 0.85532282, 0.85484375, 0.85348102, 0.85215958,\n",
       "       0.84973987, 0.85496221, 0.85839514, 0.85332423, 0.86015877,\n",
       "       0.85913469, 0.85739792, 0.85681522, 0.85311428, 0.85495768,\n",
       "       0.85261648, 0.85917562, 0.85503086, 0.85459244, 0.85712941,\n",
       "       0.85205394, 0.85462938, 0.85206917, 0.85509916, 0.85719601,\n",
       "       0.85409546, 0.85794619, 0.8559324 , 0.85492521, 0.85654184,\n",
       "       0.85630314, 0.85739303, 0.85659185, 0.85819612, 0.85508063,\n",
       "       0.85812922, 0.85523427, 0.85474111, 0.85450204, 0.85728529,\n",
       "       0.85138219, 0.85290263, 0.85430286, 0.85472206, 0.85491145,\n",
       "       0.85725881, 0.85968256, 0.85714577, 0.85319503, 0.85360198,\n",
       "       0.85712591, 0.85656069, 0.85701411, 0.85592032, 0.85482346,\n",
       "       0.85528976, 0.85704103, 0.85703155, 0.85495501, 0.85246409,\n",
       "       0.85545755, 0.85351494, 0.85661869, 0.85404299, 0.8579815 ,\n",
       "       0.85417757, 0.85720472, 0.85710798, 0.85702707, 0.85478856,\n",
       "       0.85385498, 0.85653348, 0.85647602, 0.85246907, 0.8557818 ,\n",
       "       0.85790212, 0.85234909, 0.8520564 , 0.85176014, 0.85784949,\n",
       "       0.85294775, 0.85853174, 0.85787221, 0.85444267, 0.85356043,\n",
       "       0.85851268, 0.86012318, 0.85608778, 0.85078918, 0.85635357,\n",
       "       0.85480352, 0.85489761, 0.85652043, 0.85465364, 0.85641661,\n",
       "       0.8563016 , 0.85297964, 0.85471564, 0.85399678, 0.85387061,\n",
       "       0.85663196, 0.85530673, 0.85321358, 0.85426285, 0.8557951 ,\n",
       "       0.86275454, 0.85587511, 0.85462419, 0.85620768, 0.85516384,\n",
       "       0.85223763, 0.85876943, 0.85354381, 0.85752354, 0.85199502,\n",
       "       0.86239928, 0.85709015, 0.8594258 , 0.85485345, 0.8555073 ,\n",
       "       0.85452688, 0.85365234, 0.85645381, 0.85852333, 0.85792397,\n",
       "       0.85397333, 0.85393564, 0.85933075, 0.85543376, 0.85878522,\n",
       "       0.85514583, 0.85448461, 0.85558222, 0.85660931, 0.85599114,\n",
       "       0.85031009, 0.8538141 , 0.85700685, 0.85445187, 0.85823949,\n",
       "       0.85499719, 0.85619528, 0.85451367, 0.8560727 , 0.85181513,\n",
       "       0.85196799, 0.85378775, 0.85461834, 0.85666835, 0.85632555,\n",
       "       0.8606384 , 0.85359798, 0.85390234, 0.85550471, 0.85664507,\n",
       "       0.85704538, 0.85872377, 0.85875906, 0.85820987, 0.86126218,\n",
       "       0.85567631, 0.85545839, 0.85703967, 0.856703  , 0.86256278,\n",
       "       0.85466716, 0.85423905, 0.85837039, 0.85735432, 0.85202365,\n",
       "       0.85626597, 0.85532019, 0.85305392, 0.85392062, 0.85611494,\n",
       "       0.85354437, 0.85877615, 0.85301009, 0.85389795, 0.85550674,\n",
       "       0.85711915, 0.85121657, 0.8541791 , 0.85393703, 0.8536216 ,\n",
       "       0.85733349, 0.85165002, 0.85581725, 0.85589965, 0.85399048,\n",
       "       0.85318132, 0.85431031, 0.85363085, 0.85729967, 0.85666725,\n",
       "       0.85817892, 0.85616339, 0.85912357, 0.8521554 , 0.8519964 ,\n",
       "       0.85335323, 0.86196615, 0.85688562, 0.85689395])"
      ]
     },
     "execution_count": 19,
     "metadata": {},
     "output_type": "execute_result"
    }
   ],
   "source": [
    "rfe.grid_scores_"
   ]
  },
  {
   "cell_type": "code",
   "execution_count": 129,
   "metadata": {},
   "outputs": [],
   "source": [
    "X_tr_selected = X_tr_std[:,np.where(rfe.support_)[0]]\n",
    "X_test_selected = X_test_std[:,np.where(rfe.support_)[0]]\n",
    "Xtft_selected = Xtft[:,np.where(rfe.support_)[0]]"
   ]
  },
  {
   "cell_type": "code",
   "execution_count": 25,
   "metadata": {},
   "outputs": [
    {
     "data": {
      "text/plain": [
       "((1167, 136), (1167, 234))"
      ]
     },
     "execution_count": 25,
     "metadata": {},
     "output_type": "execute_result"
    }
   ],
   "source": [
    "X_tr_selected.shape, X_tr_std.shape"
   ]
  },
  {
   "cell_type": "code",
   "execution_count": 28,
   "metadata": {},
   "outputs": [],
   "source": [
    "grid = RandomizedSearchCV(\n",
    "    REG_DICT['xgb'](), param_distributions=PARAM_GRID['xgb'], cv=5, n_jobs=4, n_iter=50\n",
    ")"
   ]
  },
  {
   "cell_type": "code",
   "execution_count": 29,
   "metadata": {},
   "outputs": [
    {
     "data": {
      "text/plain": [
       "RandomizedSearchCV(cv=5,\n",
       "                   estimator=XGBRegressor(base_score=None, booster=None,\n",
       "                                          colsample_bylevel=None,\n",
       "                                          colsample_bynode=None,\n",
       "                                          colsample_bytree=None, gamma=None,\n",
       "                                          gpu_id=None, importance_type='gain',\n",
       "                                          interaction_constraints=None,\n",
       "                                          learning_rate=None,\n",
       "                                          max_delta_step=None, max_depth=None,\n",
       "                                          min_child_weight=None, missing=nan,\n",
       "                                          monotone_constraints=None,\n",
       "                                          n_estimators=100, n...\n",
       "                                          validate_parameters=None,\n",
       "                                          verbosity=None),\n",
       "                   n_iter=50, n_jobs=4,\n",
       "                   param_distributions={'booster': ['gbtree', 'gblinear',\n",
       "                                                    'dart'],\n",
       "                                        'colsample_bytree': [0.6, 0.8, 1.0],\n",
       "                                        'eta': [0.05, 0.01, 0.1, 0.3, 0.7, 1],\n",
       "                                        'gamma': [0, 0.1, 1, 5, 50, 100],\n",
       "                                        'max_depth': range(1, 16),\n",
       "                                        'min_child_weight': [0.01, 0.5, 1, 10],\n",
       "                                        'n_estimators': [5, 10, 50, 100, 200,\n",
       "                                                         500],\n",
       "                                        'reg_alpha': [0, 0.001, 0.5, 1, 10],\n",
       "                                        'reg_lambda': [0, 0.001, 0.5, 1, 10]})"
      ]
     },
     "execution_count": 29,
     "metadata": {},
     "output_type": "execute_result"
    }
   ],
   "source": [
    "grid.fit(X_tr_selected, y_tr)"
   ]
  },
  {
   "cell_type": "code",
   "execution_count": 105,
   "metadata": {},
   "outputs": [
    {
     "data": {
      "text/plain": [
       "0.8525836453631833"
      ]
     },
     "execution_count": 105,
     "metadata": {},
     "output_type": "execute_result"
    }
   ],
   "source": [
    "grid.score(X_test_selected, y_tes)"
   ]
  },
  {
   "cell_type": "code",
   "execution_count": 106,
   "metadata": {},
   "outputs": [],
   "source": [
    "from lossfunctions import rmslog"
   ]
  },
  {
   "cell_type": "code",
   "execution_count": 107,
   "metadata": {},
   "outputs": [],
   "source": [
    "ytrain_hat = grid.predict(X_tr_selected)"
   ]
  },
  {
   "cell_type": "code",
   "execution_count": 111,
   "metadata": {},
   "outputs": [],
   "source": [
    "ytest_hat = grid.predict(X_test_selected)"
   ]
  },
  {
   "cell_type": "code",
   "execution_count": 110,
   "metadata": {},
   "outputs": [
    {
     "data": {
      "text/plain": [
       "0.5514353659839916"
      ]
     },
     "execution_count": 110,
     "metadata": {},
     "output_type": "execute_result"
    }
   ],
   "source": [
    "rmslog(y_tr.values, ytrain_hat)"
   ]
  },
  {
   "cell_type": "code",
   "execution_count": null,
   "metadata": {},
   "outputs": [],
   "source": [
    "rmslog(y_tr.values, ytrain_hat)"
   ]
  },
  {
   "cell_type": "code",
   "execution_count": 112,
   "metadata": {},
   "outputs": [
    {
     "data": {
      "text/plain": [
       "0.5420151149820666"
      ]
     },
     "execution_count": 112,
     "metadata": {},
     "output_type": "execute_result"
    }
   ],
   "source": [
    "rmslog(y_tes.values, ytest_hat)"
   ]
  },
  {
   "cell_type": "code",
   "execution_count": 142,
   "metadata": {},
   "outputs": [
    {
     "data": {
      "text/plain": [
       "(1459,)"
      ]
     },
     "execution_count": 142,
     "metadata": {},
     "output_type": "execute_result"
    }
   ],
   "source": [
    "dft.index.values.shape"
   ]
  },
  {
   "cell_type": "code",
   "execution_count": 144,
   "metadata": {},
   "outputs": [
    {
     "data": {
      "text/plain": [
       "array([[  1461.      , 122871.328125],\n",
       "       [  1462.      , 162100.796875],\n",
       "       [  1463.      , 179813.015625],\n",
       "       ...,\n",
       "       [  2917.      , 171688.171875],\n",
       "       [  2918.      , 120676.828125],\n",
       "       [  2919.      , 230684.125   ]])"
      ]
     },
     "execution_count": 144,
     "metadata": {},
     "output_type": "execute_result"
    }
   ],
   "source": [
    "np.vstack([dft.index.values, grid.predict(Xtft_selected)]).T"
   ]
  },
  {
   "cell_type": "code",
   "execution_count": 146,
   "metadata": {},
   "outputs": [],
   "source": [
    "pd.DataFrame(np.vstack([dft.index.values, grid.predict(Xtft_selected)]).T, columns=['Id', 'SalePrice']).to_csv('submit.csv')"
   ]
  },
  {
   "cell_type": "code",
   "execution_count": 116,
   "metadata": {},
   "outputs": [
    {
     "data": {
      "text/html": [
       "<div>\n",
       "<style scoped>\n",
       "    .dataframe tbody tr th:only-of-type {\n",
       "        vertical-align: middle;\n",
       "    }\n",
       "\n",
       "    .dataframe tbody tr th {\n",
       "        vertical-align: top;\n",
       "    }\n",
       "\n",
       "    .dataframe thead th {\n",
       "        text-align: right;\n",
       "    }\n",
       "</style>\n",
       "<table border=\"1\" class=\"dataframe\">\n",
       "  <thead>\n",
       "    <tr style=\"text-align: right;\">\n",
       "      <th></th>\n",
       "      <th>MSSubClass</th>\n",
       "      <th>MSZoning</th>\n",
       "      <th>LotFrontage</th>\n",
       "      <th>LotArea</th>\n",
       "      <th>Street</th>\n",
       "      <th>Alley</th>\n",
       "      <th>LotShape</th>\n",
       "      <th>LandContour</th>\n",
       "      <th>Utilities</th>\n",
       "      <th>LotConfig</th>\n",
       "      <th>...</th>\n",
       "      <th>ScreenPorch</th>\n",
       "      <th>PoolArea</th>\n",
       "      <th>PoolQC</th>\n",
       "      <th>Fence</th>\n",
       "      <th>MiscFeature</th>\n",
       "      <th>MiscVal</th>\n",
       "      <th>MoSold</th>\n",
       "      <th>YrSold</th>\n",
       "      <th>SaleType</th>\n",
       "      <th>SaleCondition</th>\n",
       "    </tr>\n",
       "    <tr>\n",
       "      <th>Id</th>\n",
       "      <th></th>\n",
       "      <th></th>\n",
       "      <th></th>\n",
       "      <th></th>\n",
       "      <th></th>\n",
       "      <th></th>\n",
       "      <th></th>\n",
       "      <th></th>\n",
       "      <th></th>\n",
       "      <th></th>\n",
       "      <th></th>\n",
       "      <th></th>\n",
       "      <th></th>\n",
       "      <th></th>\n",
       "      <th></th>\n",
       "      <th></th>\n",
       "      <th></th>\n",
       "      <th></th>\n",
       "      <th></th>\n",
       "      <th></th>\n",
       "      <th></th>\n",
       "    </tr>\n",
       "  </thead>\n",
       "  <tbody>\n",
       "    <tr>\n",
       "      <th>1461</th>\n",
       "      <td>20</td>\n",
       "      <td>RH</td>\n",
       "      <td>80.0</td>\n",
       "      <td>11622</td>\n",
       "      <td>Pave</td>\n",
       "      <td>NaN</td>\n",
       "      <td>Reg</td>\n",
       "      <td>Lvl</td>\n",
       "      <td>AllPub</td>\n",
       "      <td>Inside</td>\n",
       "      <td>...</td>\n",
       "      <td>120</td>\n",
       "      <td>0</td>\n",
       "      <td>NaN</td>\n",
       "      <td>MnPrv</td>\n",
       "      <td>NaN</td>\n",
       "      <td>0</td>\n",
       "      <td>6</td>\n",
       "      <td>2010</td>\n",
       "      <td>WD</td>\n",
       "      <td>Normal</td>\n",
       "    </tr>\n",
       "    <tr>\n",
       "      <th>1462</th>\n",
       "      <td>20</td>\n",
       "      <td>RL</td>\n",
       "      <td>81.0</td>\n",
       "      <td>14267</td>\n",
       "      <td>Pave</td>\n",
       "      <td>NaN</td>\n",
       "      <td>IR1</td>\n",
       "      <td>Lvl</td>\n",
       "      <td>AllPub</td>\n",
       "      <td>Corner</td>\n",
       "      <td>...</td>\n",
       "      <td>0</td>\n",
       "      <td>0</td>\n",
       "      <td>NaN</td>\n",
       "      <td>NaN</td>\n",
       "      <td>Gar2</td>\n",
       "      <td>12500</td>\n",
       "      <td>6</td>\n",
       "      <td>2010</td>\n",
       "      <td>WD</td>\n",
       "      <td>Normal</td>\n",
       "    </tr>\n",
       "    <tr>\n",
       "      <th>1463</th>\n",
       "      <td>60</td>\n",
       "      <td>RL</td>\n",
       "      <td>74.0</td>\n",
       "      <td>13830</td>\n",
       "      <td>Pave</td>\n",
       "      <td>NaN</td>\n",
       "      <td>IR1</td>\n",
       "      <td>Lvl</td>\n",
       "      <td>AllPub</td>\n",
       "      <td>Inside</td>\n",
       "      <td>...</td>\n",
       "      <td>0</td>\n",
       "      <td>0</td>\n",
       "      <td>NaN</td>\n",
       "      <td>MnPrv</td>\n",
       "      <td>NaN</td>\n",
       "      <td>0</td>\n",
       "      <td>3</td>\n",
       "      <td>2010</td>\n",
       "      <td>WD</td>\n",
       "      <td>Normal</td>\n",
       "    </tr>\n",
       "    <tr>\n",
       "      <th>1464</th>\n",
       "      <td>60</td>\n",
       "      <td>RL</td>\n",
       "      <td>78.0</td>\n",
       "      <td>9978</td>\n",
       "      <td>Pave</td>\n",
       "      <td>NaN</td>\n",
       "      <td>IR1</td>\n",
       "      <td>Lvl</td>\n",
       "      <td>AllPub</td>\n",
       "      <td>Inside</td>\n",
       "      <td>...</td>\n",
       "      <td>0</td>\n",
       "      <td>0</td>\n",
       "      <td>NaN</td>\n",
       "      <td>NaN</td>\n",
       "      <td>NaN</td>\n",
       "      <td>0</td>\n",
       "      <td>6</td>\n",
       "      <td>2010</td>\n",
       "      <td>WD</td>\n",
       "      <td>Normal</td>\n",
       "    </tr>\n",
       "    <tr>\n",
       "      <th>1465</th>\n",
       "      <td>120</td>\n",
       "      <td>RL</td>\n",
       "      <td>43.0</td>\n",
       "      <td>5005</td>\n",
       "      <td>Pave</td>\n",
       "      <td>NaN</td>\n",
       "      <td>IR1</td>\n",
       "      <td>HLS</td>\n",
       "      <td>AllPub</td>\n",
       "      <td>Inside</td>\n",
       "      <td>...</td>\n",
       "      <td>144</td>\n",
       "      <td>0</td>\n",
       "      <td>NaN</td>\n",
       "      <td>NaN</td>\n",
       "      <td>NaN</td>\n",
       "      <td>0</td>\n",
       "      <td>1</td>\n",
       "      <td>2010</td>\n",
       "      <td>WD</td>\n",
       "      <td>Normal</td>\n",
       "    </tr>\n",
       "  </tbody>\n",
       "</table>\n",
       "<p>5 rows × 79 columns</p>\n",
       "</div>"
      ],
      "text/plain": [
       "      MSSubClass MSZoning  LotFrontage  LotArea Street Alley LotShape  \\\n",
       "Id                                                                      \n",
       "1461          20       RH         80.0    11622   Pave   NaN      Reg   \n",
       "1462          20       RL         81.0    14267   Pave   NaN      IR1   \n",
       "1463          60       RL         74.0    13830   Pave   NaN      IR1   \n",
       "1464          60       RL         78.0     9978   Pave   NaN      IR1   \n",
       "1465         120       RL         43.0     5005   Pave   NaN      IR1   \n",
       "\n",
       "     LandContour Utilities LotConfig  ... ScreenPorch PoolArea PoolQC  Fence  \\\n",
       "Id                                    ...                                      \n",
       "1461         Lvl    AllPub    Inside  ...         120        0    NaN  MnPrv   \n",
       "1462         Lvl    AllPub    Corner  ...           0        0    NaN    NaN   \n",
       "1463         Lvl    AllPub    Inside  ...           0        0    NaN  MnPrv   \n",
       "1464         Lvl    AllPub    Inside  ...           0        0    NaN    NaN   \n",
       "1465         HLS    AllPub    Inside  ...         144        0    NaN    NaN   \n",
       "\n",
       "     MiscFeature MiscVal  MoSold  YrSold  SaleType  SaleCondition  \n",
       "Id                                                                 \n",
       "1461         NaN       0       6    2010        WD         Normal  \n",
       "1462        Gar2   12500       6    2010        WD         Normal  \n",
       "1463         NaN       0       3    2010        WD         Normal  \n",
       "1464         NaN       0       6    2010        WD         Normal  \n",
       "1465         NaN       0       1    2010        WD         Normal  \n",
       "\n",
       "[5 rows x 79 columns]"
      ]
     },
     "execution_count": 116,
     "metadata": {},
     "output_type": "execute_result"
    }
   ],
   "source": [
    "dft.head()"
   ]
  },
  {
   "cell_type": "code",
   "execution_count": null,
   "metadata": {},
   "outputs": [],
   "source": []
  },
  {
   "cell_type": "code",
   "execution_count": null,
   "metadata": {},
   "outputs": [],
   "source": []
  },
  {
   "cell_type": "code",
   "execution_count": null,
   "metadata": {},
   "outputs": [],
   "source": []
  },
  {
   "cell_type": "code",
   "execution_count": 77,
   "metadata": {},
   "outputs": [],
   "source": [
    "clc = REG_DICT['svm']()"
   ]
  },
  {
   "cell_type": "code",
   "execution_count": 78,
   "metadata": {},
   "outputs": [
    {
     "data": {
      "text/plain": [
       "SVR(max_iter=1000000000)"
      ]
     },
     "execution_count": 78,
     "metadata": {},
     "output_type": "execute_result"
    }
   ],
   "source": [
    "clc.fit(X_tr_std, y_tr)"
   ]
  },
  {
   "cell_type": "code",
   "execution_count": 89,
   "metadata": {},
   "outputs": [
    {
     "data": {
      "text/plain": [
       "0.48403234424908004"
      ]
     },
     "execution_count": 89,
     "metadata": {},
     "output_type": "execute_result"
    }
   ],
   "source": [
    "grid.score(X_tr_std, y_tr)"
   ]
  },
  {
   "cell_type": "markdown",
   "metadata": {},
   "source": [
    "# Build a pipeline"
   ]
  },
  {
   "cell_type": "code",
   "execution_count": 147,
   "metadata": {},
   "outputs": [],
   "source": [
    "from sklearn.pipeline import Pipeline"
   ]
  },
  {
   "cell_type": "code",
   "execution_count": 348,
   "metadata": {},
   "outputs": [],
   "source": [
    "df = pd.read_csv(os.path.join(DATA_PATH_TRAIN),index_col=0)\n",
    "dft = pd.read_csv('./data/test.csv', index_col=0)"
   ]
  },
  {
   "cell_type": "code",
   "execution_count": 349,
   "metadata": {},
   "outputs": [],
   "source": [
    "cat_cols = df.select_dtypes(include=['object']).columns\n",
    "num_cols = set(df.columns)-set(cat_cols)"
   ]
  },
  {
   "cell_type": "code",
   "execution_count": 284,
   "metadata": {},
   "outputs": [
    {
     "data": {
      "text/plain": [
       "(1460, 80)"
      ]
     },
     "execution_count": 284,
     "metadata": {},
     "output_type": "execute_result"
    }
   ],
   "source": [
    "df.shape"
   ]
  },
  {
   "cell_type": "code",
   "execution_count": 350,
   "metadata": {},
   "outputs": [
    {
     "data": {
      "text/plain": [
       "Int64Index([1380], dtype='int64', name='Id')"
      ]
     },
     "execution_count": 350,
     "metadata": {},
     "output_type": "execute_result"
    }
   ],
   "source": [
    "df[df['Electrical'].isna()].index"
   ]
  },
  {
   "cell_type": "code",
   "execution_count": 351,
   "metadata": {},
   "outputs": [],
   "source": [
    "df.drop(df[df['Electrical'].isna()].index,inplace=True)"
   ]
  },
  {
   "cell_type": "code",
   "execution_count": 290,
   "metadata": {},
   "outputs": [
    {
     "data": {
      "text/plain": [
       "(1459, 80)"
      ]
     },
     "execution_count": 290,
     "metadata": {},
     "output_type": "execute_result"
    }
   ],
   "source": [
    "df.shape"
   ]
  },
  {
   "cell_type": "code",
   "execution_count": 352,
   "metadata": {},
   "outputs": [],
   "source": [
    "pipe = Pipeline(\n",
    "    [\n",
    "        ('cleaner', Preprocessor()),\n",
    "        ('feat_eng1', RemoveLowFreqCategories(20, cat_cols)),\n",
    "        ('feat_eng2', CategoricalHandler(cat_cols.tolist()+['GarageYrBlt'])),\n",
    "        ('norm', sklearn.preprocessing.StandardScaler()),\n",
    "        ('rfe', RFECV(REG_DICT['xgb'](), cv=5)),\n",
    "        ('grid', RandomizedSearchCV(REG_DICT['xgb'](), param_distributions=PARAM_GRID['xgb'], cv=5, n_jobs=4, n_iter=50))\n",
    "    ]\n",
    ")"
   ]
  },
  {
   "cell_type": "code",
   "execution_count": 353,
   "metadata": {},
   "outputs": [
    {
     "data": {
      "text/plain": [
       "Pipeline(steps=[('cleaner',\n",
       "                 <__main__.Preprocessor object at 0x00000220AAF3AB50>),\n",
       "                ('feat_eng1',\n",
       "                 <__main__.RemoveLowFreqCategories object at 0x00000220AAF3AC40>),\n",
       "                ('feat_eng2',\n",
       "                 <__main__.CategoricalHandler object at 0x00000220AAF3A0D0>),\n",
       "                ('norm', StandardScaler()),\n",
       "                ('rfe',\n",
       "                 RFECV(cv=5,\n",
       "                       estimator=XGBRegressor(base_score=None, booster=None,\n",
       "                                              colsample_bylevel=None,\n",
       "                                              colsampl...\n",
       "                                                           verbosity=None),\n",
       "                                    n_iter=50, n_jobs=4,\n",
       "                                    param_distributions={'booster': ['gbtree',\n",
       "                                                                     'gblinear',\n",
       "                                                                     'dart'],\n",
       "                                                         'colsample_bytree': [0.6,\n",
       "                                                                              0.8,\n",
       "                                                                              1.0],\n",
       "                                                         'eta': [0.05, 0.01,\n",
       "                                                                 0.1, 0.3, 0.7,\n",
       "                                                                 1],\n",
       "                                                         'gamma': [0, 0.1, 1, 5,\n",
       "                                                                   50, 100],\n",
       "                                                         'max_depth': range(1, 16),\n",
       "                                                         'min_child_weight': [0.01,\n",
       "                                                                              0.5,\n",
       "                                                                              1,\n",
       "                                                                              10],\n",
       "                                                         'n_estimators': [5, 10,\n",
       "                                                                          50,\n",
       "                                                                          100,\n",
       "                                                                          200,\n",
       "                                                                          500],\n",
       "                                                         'reg_alpha': [0, 0.001,\n",
       "                                                                       0.5, 1,\n",
       "                                                                       10],\n",
       "                                                         'reg_lambda': [0,\n",
       "                                                                        0.001,\n",
       "                                                                        0.5, 1,\n",
       "                                                                        10]}))])"
      ]
     },
     "execution_count": 353,
     "metadata": {},
     "output_type": "execute_result"
    }
   ],
   "source": [
    "pipe.fit(df.drop('SalePrice', axis=1), df['SalePrice'])"
   ]
  },
  {
   "cell_type": "code",
   "execution_count": 336,
   "metadata": {},
   "outputs": [
    {
     "ename": "AttributeError",
     "evalue": "'XGBRegressor' object has no attribute 'transform'",
     "output_type": "error",
     "traceback": [
      "\u001b[1;31m---------------------------------------------------------------------------\u001b[0m",
      "\u001b[1;31mAttributeError\u001b[0m                            Traceback (most recent call last)",
      "\u001b[1;32m~\\AppData\\Local\\Temp/ipykernel_20140/3362824658.py\u001b[0m in \u001b[0;36m<module>\u001b[1;34m\u001b[0m\n\u001b[1;32m----> 1\u001b[1;33m \u001b[0mpipe\u001b[0m\u001b[1;33m.\u001b[0m\u001b[0mtransform\u001b[0m\u001b[1;33m(\u001b[0m\u001b[0mdf\u001b[0m\u001b[1;33m.\u001b[0m\u001b[0mdrop\u001b[0m\u001b[1;33m(\u001b[0m\u001b[1;34m'SalePrice'\u001b[0m\u001b[1;33m,\u001b[0m \u001b[0maxis\u001b[0m\u001b[1;33m=\u001b[0m\u001b[1;36m1\u001b[0m\u001b[1;33m)\u001b[0m\u001b[1;33m)\u001b[0m\u001b[1;33m.\u001b[0m\u001b[0mshape\u001b[0m\u001b[1;33m\u001b[0m\u001b[1;33m\u001b[0m\u001b[0m\n\u001b[0m",
      "\u001b[1;32m~\\.conda\\envs\\pyalgo\\lib\\site-packages\\sklearn\\pipeline.py\u001b[0m in \u001b[0;36mtransform\u001b[1;34m(self)\u001b[0m\n\u001b[0;32m    552\u001b[0m         \u001b[1;31m# XXX: Handling the None case means we can't use if_delegate_has_method\u001b[0m\u001b[1;33m\u001b[0m\u001b[1;33m\u001b[0m\u001b[1;33m\u001b[0m\u001b[0m\n\u001b[0;32m    553\u001b[0m         \u001b[1;32mif\u001b[0m \u001b[0mself\u001b[0m\u001b[1;33m.\u001b[0m\u001b[0m_final_estimator\u001b[0m \u001b[1;33m!=\u001b[0m \u001b[1;34m'passthrough'\u001b[0m\u001b[1;33m:\u001b[0m\u001b[1;33m\u001b[0m\u001b[1;33m\u001b[0m\u001b[0m\n\u001b[1;32m--> 554\u001b[1;33m             \u001b[0mself\u001b[0m\u001b[1;33m.\u001b[0m\u001b[0m_final_estimator\u001b[0m\u001b[1;33m.\u001b[0m\u001b[0mtransform\u001b[0m\u001b[1;33m\u001b[0m\u001b[1;33m\u001b[0m\u001b[0m\n\u001b[0m\u001b[0;32m    555\u001b[0m         \u001b[1;32mreturn\u001b[0m \u001b[0mself\u001b[0m\u001b[1;33m.\u001b[0m\u001b[0m_transform\u001b[0m\u001b[1;33m\u001b[0m\u001b[1;33m\u001b[0m\u001b[0m\n\u001b[0;32m    556\u001b[0m \u001b[1;33m\u001b[0m\u001b[0m\n",
      "\u001b[1;32m~\\.conda\\envs\\pyalgo\\lib\\site-packages\\sklearn\\utils\\metaestimators.py\u001b[0m in \u001b[0;36m__get__\u001b[1;34m(self, obj, type)\u001b[0m\n\u001b[0;32m    112\u001b[0m                     \u001b[1;32mcontinue\u001b[0m\u001b[1;33m\u001b[0m\u001b[1;33m\u001b[0m\u001b[0m\n\u001b[0;32m    113\u001b[0m                 \u001b[1;32melse\u001b[0m\u001b[1;33m:\u001b[0m\u001b[1;33m\u001b[0m\u001b[1;33m\u001b[0m\u001b[0m\n\u001b[1;32m--> 114\u001b[1;33m                     \u001b[0mgetattr\u001b[0m\u001b[1;33m(\u001b[0m\u001b[0mdelegate\u001b[0m\u001b[1;33m,\u001b[0m \u001b[0mself\u001b[0m\u001b[1;33m.\u001b[0m\u001b[0mattribute_name\u001b[0m\u001b[1;33m)\u001b[0m\u001b[1;33m\u001b[0m\u001b[1;33m\u001b[0m\u001b[0m\n\u001b[0m\u001b[0;32m    115\u001b[0m                     \u001b[1;32mbreak\u001b[0m\u001b[1;33m\u001b[0m\u001b[1;33m\u001b[0m\u001b[0m\n\u001b[0;32m    116\u001b[0m             \u001b[1;32melse\u001b[0m\u001b[1;33m:\u001b[0m\u001b[1;33m\u001b[0m\u001b[1;33m\u001b[0m\u001b[0m\n",
      "\u001b[1;31mAttributeError\u001b[0m: 'XGBRegressor' object has no attribute 'transform'"
     ]
    }
   ],
   "source": [
    "pipe.transform(df.drop('SalePrice', axis=1)).shape"
   ]
  },
  {
   "cell_type": "code",
   "execution_count": 337,
   "metadata": {},
   "outputs": [],
   "source": [
    "df_clean = pipe['cleaner'].transform(df.drop('SalePrice',axis=1))"
   ]
  },
  {
   "cell_type": "code",
   "execution_count": 338,
   "metadata": {},
   "outputs": [],
   "source": [
    "df_clean = pipe['feat_eng1'].transform(df_clean)"
   ]
  },
  {
   "cell_type": "code",
   "execution_count": 339,
   "metadata": {},
   "outputs": [],
   "source": [
    "df_clean = pipe['feat_eng2'].transform(df_clean)"
   ]
  },
  {
   "cell_type": "code",
   "execution_count": 340,
   "metadata": {},
   "outputs": [
    {
     "data": {
      "text/plain": [
       "(1459, 79)"
      ]
     },
     "execution_count": 340,
     "metadata": {},
     "output_type": "execute_result"
    }
   ],
   "source": [
    "df_clean.shape"
   ]
  },
  {
   "cell_type": "code",
   "execution_count": null,
   "metadata": {},
   "outputs": [],
   "source": []
  },
  {
   "cell_type": "code",
   "execution_count": 327,
   "metadata": {},
   "outputs": [],
   "source": [
    "dft_clean = pipe['cleaner'].transform(dft)"
   ]
  },
  {
   "cell_type": "code",
   "execution_count": 328,
   "metadata": {},
   "outputs": [],
   "source": [
    "dft_clean = pipe['feat_eng1'].transform(dft_clean)"
   ]
  },
  {
   "cell_type": "code",
   "execution_count": 331,
   "metadata": {},
   "outputs": [],
   "source": [
    "dft_clean = pipe['feat_eng2'].transform(dft_clean)"
   ]
  },
  {
   "cell_type": "code",
   "execution_count": 332,
   "metadata": {},
   "outputs": [
    {
     "data": {
      "text/plain": [
       "(1459, 79)"
      ]
     },
     "execution_count": 332,
     "metadata": {},
     "output_type": "execute_result"
    }
   ],
   "source": [
    "dft_clean.shape"
   ]
  },
  {
   "cell_type": "code",
   "execution_count": 354,
   "metadata": {},
   "outputs": [
    {
     "ename": "ValueError",
     "evalue": "X has 294 features, but StandardScaler is expecting 305 features as input.",
     "output_type": "error",
     "traceback": [
      "\u001b[1;31m---------------------------------------------------------------------------\u001b[0m",
      "\u001b[1;31mValueError\u001b[0m                                Traceback (most recent call last)",
      "\u001b[1;32m~\\AppData\\Local\\Temp/ipykernel_20140/3036015895.py\u001b[0m in \u001b[0;36m<module>\u001b[1;34m\u001b[0m\n\u001b[1;32m----> 1\u001b[1;33m \u001b[0mpreds\u001b[0m \u001b[1;33m=\u001b[0m \u001b[0mpipe\u001b[0m\u001b[1;33m.\u001b[0m\u001b[0mpredict\u001b[0m\u001b[1;33m(\u001b[0m\u001b[0mdft\u001b[0m\u001b[1;33m)\u001b[0m\u001b[1;33m\u001b[0m\u001b[1;33m\u001b[0m\u001b[0m\n\u001b[0m",
      "\u001b[1;32m~\\.conda\\envs\\pyalgo\\lib\\site-packages\\sklearn\\utils\\metaestimators.py\u001b[0m in \u001b[0;36m<lambda>\u001b[1;34m(*args, **kwargs)\u001b[0m\n\u001b[0;32m    118\u001b[0m \u001b[1;33m\u001b[0m\u001b[0m\n\u001b[0;32m    119\u001b[0m         \u001b[1;31m# lambda, but not partial, allows help() to work with update_wrapper\u001b[0m\u001b[1;33m\u001b[0m\u001b[1;33m\u001b[0m\u001b[1;33m\u001b[0m\u001b[0m\n\u001b[1;32m--> 120\u001b[1;33m         \u001b[0mout\u001b[0m \u001b[1;33m=\u001b[0m \u001b[1;32mlambda\u001b[0m \u001b[1;33m*\u001b[0m\u001b[0margs\u001b[0m\u001b[1;33m,\u001b[0m \u001b[1;33m**\u001b[0m\u001b[0mkwargs\u001b[0m\u001b[1;33m:\u001b[0m \u001b[0mself\u001b[0m\u001b[1;33m.\u001b[0m\u001b[0mfn\u001b[0m\u001b[1;33m(\u001b[0m\u001b[0mobj\u001b[0m\u001b[1;33m,\u001b[0m \u001b[1;33m*\u001b[0m\u001b[0margs\u001b[0m\u001b[1;33m,\u001b[0m \u001b[1;33m**\u001b[0m\u001b[0mkwargs\u001b[0m\u001b[1;33m)\u001b[0m\u001b[1;33m\u001b[0m\u001b[1;33m\u001b[0m\u001b[0m\n\u001b[0m\u001b[0;32m    121\u001b[0m         \u001b[1;31m# update the docstring of the returned function\u001b[0m\u001b[1;33m\u001b[0m\u001b[1;33m\u001b[0m\u001b[1;33m\u001b[0m\u001b[0m\n\u001b[0;32m    122\u001b[0m         \u001b[0mupdate_wrapper\u001b[0m\u001b[1;33m(\u001b[0m\u001b[0mout\u001b[0m\u001b[1;33m,\u001b[0m \u001b[0mself\u001b[0m\u001b[1;33m.\u001b[0m\u001b[0mfn\u001b[0m\u001b[1;33m)\u001b[0m\u001b[1;33m\u001b[0m\u001b[1;33m\u001b[0m\u001b[0m\n",
      "\u001b[1;32m~\\.conda\\envs\\pyalgo\\lib\\site-packages\\sklearn\\pipeline.py\u001b[0m in \u001b[0;36mpredict\u001b[1;34m(self, X, **predict_params)\u001b[0m\n\u001b[0;32m    416\u001b[0m         \u001b[0mXt\u001b[0m \u001b[1;33m=\u001b[0m \u001b[0mX\u001b[0m\u001b[1;33m\u001b[0m\u001b[1;33m\u001b[0m\u001b[0m\n\u001b[0;32m    417\u001b[0m         \u001b[1;32mfor\u001b[0m \u001b[0m_\u001b[0m\u001b[1;33m,\u001b[0m \u001b[0mname\u001b[0m\u001b[1;33m,\u001b[0m \u001b[0mtransform\u001b[0m \u001b[1;32min\u001b[0m \u001b[0mself\u001b[0m\u001b[1;33m.\u001b[0m\u001b[0m_iter\u001b[0m\u001b[1;33m(\u001b[0m\u001b[0mwith_final\u001b[0m\u001b[1;33m=\u001b[0m\u001b[1;32mFalse\u001b[0m\u001b[1;33m)\u001b[0m\u001b[1;33m:\u001b[0m\u001b[1;33m\u001b[0m\u001b[1;33m\u001b[0m\u001b[0m\n\u001b[1;32m--> 418\u001b[1;33m             \u001b[0mXt\u001b[0m \u001b[1;33m=\u001b[0m \u001b[0mtransform\u001b[0m\u001b[1;33m.\u001b[0m\u001b[0mtransform\u001b[0m\u001b[1;33m(\u001b[0m\u001b[0mXt\u001b[0m\u001b[1;33m)\u001b[0m\u001b[1;33m\u001b[0m\u001b[1;33m\u001b[0m\u001b[0m\n\u001b[0m\u001b[0;32m    419\u001b[0m         \u001b[1;32mreturn\u001b[0m \u001b[0mself\u001b[0m\u001b[1;33m.\u001b[0m\u001b[0msteps\u001b[0m\u001b[1;33m[\u001b[0m\u001b[1;33m-\u001b[0m\u001b[1;36m1\u001b[0m\u001b[1;33m]\u001b[0m\u001b[1;33m[\u001b[0m\u001b[1;33m-\u001b[0m\u001b[1;36m1\u001b[0m\u001b[1;33m]\u001b[0m\u001b[1;33m.\u001b[0m\u001b[0mpredict\u001b[0m\u001b[1;33m(\u001b[0m\u001b[0mXt\u001b[0m\u001b[1;33m,\u001b[0m \u001b[1;33m**\u001b[0m\u001b[0mpredict_params\u001b[0m\u001b[1;33m)\u001b[0m\u001b[1;33m\u001b[0m\u001b[1;33m\u001b[0m\u001b[0m\n\u001b[0;32m    420\u001b[0m \u001b[1;33m\u001b[0m\u001b[0m\n",
      "\u001b[1;32m~\\.conda\\envs\\pyalgo\\lib\\site-packages\\sklearn\\preprocessing\\_data.py\u001b[0m in \u001b[0;36mtransform\u001b[1;34m(self, X, copy)\u001b[0m\n\u001b[0;32m    881\u001b[0m \u001b[1;33m\u001b[0m\u001b[0m\n\u001b[0;32m    882\u001b[0m         \u001b[0mcopy\u001b[0m \u001b[1;33m=\u001b[0m \u001b[0mcopy\u001b[0m \u001b[1;32mif\u001b[0m \u001b[0mcopy\u001b[0m \u001b[1;32mis\u001b[0m \u001b[1;32mnot\u001b[0m \u001b[1;32mNone\u001b[0m \u001b[1;32melse\u001b[0m \u001b[0mself\u001b[0m\u001b[1;33m.\u001b[0m\u001b[0mcopy\u001b[0m\u001b[1;33m\u001b[0m\u001b[1;33m\u001b[0m\u001b[0m\n\u001b[1;32m--> 883\u001b[1;33m         X = self._validate_data(X, reset=False,\n\u001b[0m\u001b[0;32m    884\u001b[0m                                 \u001b[0maccept_sparse\u001b[0m\u001b[1;33m=\u001b[0m\u001b[1;34m'csr'\u001b[0m\u001b[1;33m,\u001b[0m \u001b[0mcopy\u001b[0m\u001b[1;33m=\u001b[0m\u001b[0mcopy\u001b[0m\u001b[1;33m,\u001b[0m\u001b[1;33m\u001b[0m\u001b[1;33m\u001b[0m\u001b[0m\n\u001b[0;32m    885\u001b[0m                                 \u001b[0mestimator\u001b[0m\u001b[1;33m=\u001b[0m\u001b[0mself\u001b[0m\u001b[1;33m,\u001b[0m \u001b[0mdtype\u001b[0m\u001b[1;33m=\u001b[0m\u001b[0mFLOAT_DTYPES\u001b[0m\u001b[1;33m,\u001b[0m\u001b[1;33m\u001b[0m\u001b[1;33m\u001b[0m\u001b[0m\n",
      "\u001b[1;32m~\\.conda\\envs\\pyalgo\\lib\\site-packages\\sklearn\\base.py\u001b[0m in \u001b[0;36m_validate_data\u001b[1;34m(self, X, y, reset, validate_separately, **check_params)\u001b[0m\n\u001b[0;32m    435\u001b[0m \u001b[1;33m\u001b[0m\u001b[0m\n\u001b[0;32m    436\u001b[0m         \u001b[1;32mif\u001b[0m \u001b[0mcheck_params\u001b[0m\u001b[1;33m.\u001b[0m\u001b[0mget\u001b[0m\u001b[1;33m(\u001b[0m\u001b[1;34m'ensure_2d'\u001b[0m\u001b[1;33m,\u001b[0m \u001b[1;32mTrue\u001b[0m\u001b[1;33m)\u001b[0m\u001b[1;33m:\u001b[0m\u001b[1;33m\u001b[0m\u001b[1;33m\u001b[0m\u001b[0m\n\u001b[1;32m--> 437\u001b[1;33m             \u001b[0mself\u001b[0m\u001b[1;33m.\u001b[0m\u001b[0m_check_n_features\u001b[0m\u001b[1;33m(\u001b[0m\u001b[0mX\u001b[0m\u001b[1;33m,\u001b[0m \u001b[0mreset\u001b[0m\u001b[1;33m=\u001b[0m\u001b[0mreset\u001b[0m\u001b[1;33m)\u001b[0m\u001b[1;33m\u001b[0m\u001b[1;33m\u001b[0m\u001b[0m\n\u001b[0m\u001b[0;32m    438\u001b[0m \u001b[1;33m\u001b[0m\u001b[0m\n\u001b[0;32m    439\u001b[0m         \u001b[1;32mreturn\u001b[0m \u001b[0mout\u001b[0m\u001b[1;33m\u001b[0m\u001b[1;33m\u001b[0m\u001b[0m\n",
      "\u001b[1;32m~\\.conda\\envs\\pyalgo\\lib\\site-packages\\sklearn\\base.py\u001b[0m in \u001b[0;36m_check_n_features\u001b[1;34m(self, X, reset)\u001b[0m\n\u001b[0;32m    363\u001b[0m \u001b[1;33m\u001b[0m\u001b[0m\n\u001b[0;32m    364\u001b[0m         \u001b[1;32mif\u001b[0m \u001b[0mn_features\u001b[0m \u001b[1;33m!=\u001b[0m \u001b[0mself\u001b[0m\u001b[1;33m.\u001b[0m\u001b[0mn_features_in_\u001b[0m\u001b[1;33m:\u001b[0m\u001b[1;33m\u001b[0m\u001b[1;33m\u001b[0m\u001b[0m\n\u001b[1;32m--> 365\u001b[1;33m             raise ValueError(\n\u001b[0m\u001b[0;32m    366\u001b[0m                 \u001b[1;34mf\"X has {n_features} features, but {self.__class__.__name__} \"\u001b[0m\u001b[1;33m\u001b[0m\u001b[1;33m\u001b[0m\u001b[0m\n\u001b[0;32m    367\u001b[0m                 f\"is expecting {self.n_features_in_} features as input.\")\n",
      "\u001b[1;31mValueError\u001b[0m: X has 294 features, but StandardScaler is expecting 305 features as input."
     ]
    }
   ],
   "source": [
    "preds = pipe.predict(dft)"
   ]
  },
  {
   "cell_type": "code",
   "execution_count": null,
   "metadata": {},
   "outputs": [],
   "source": []
  }
 ],
 "metadata": {
  "interpreter": {
   "hash": "ffd4f5020d68a9e1035e7273d938a2659b2922f7d13145f4a92fbbcd4ea00944"
  },
  "kernelspec": {
   "display_name": "Python 3 (ipykernel)",
   "language": "python",
   "name": "python3"
  },
  "language_info": {
   "codemirror_mode": {
    "name": "ipython",
    "version": 3
   },
   "file_extension": ".py",
   "mimetype": "text/x-python",
   "name": "python",
   "nbconvert_exporter": "python",
   "pygments_lexer": "ipython3",
   "version": "3.9.6"
  }
 },
 "nbformat": 4,
 "nbformat_minor": 4
}
