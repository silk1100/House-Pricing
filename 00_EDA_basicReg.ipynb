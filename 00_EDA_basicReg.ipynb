{
 "cells": [
  {
   "cell_type": "code",
   "execution_count": 73,
   "metadata": {},
   "outputs": [],
   "source": [
    "DATA_PATH_TRAIN = './data/train.csv'\n",
    "DATA_PATH_TEST = './data/test.csv'"
   ]
  },
  {
   "cell_type": "code",
   "execution_count": 162,
   "metadata": {},
   "outputs": [],
   "source": [
    "import numpy as np\n",
    "import pandas as pd\n",
    "import os\n",
    "\n",
    "import matplotlib.pyplot as plt\n",
    "\n",
    "import sklearn\n",
    "import xgboost\n",
    "\n",
    "from tensorflow import keras"
   ]
  },
  {
   "cell_type": "code",
   "execution_count": 225,
   "metadata": {},
   "outputs": [],
   "source": [
    "df = pd.read_csv(os.path.join(DATA_PATH_TRAIN))"
   ]
  },
  {
   "cell_type": "code",
   "execution_count": 226,
   "metadata": {},
   "outputs": [
    {
     "data": {
      "text/plain": [
       "Index(['Alley', 'FireplaceQu', 'PoolQC', 'Fence', 'MiscFeature'], dtype='object')"
      ]
     },
     "execution_count": 226,
     "metadata": {},
     "output_type": "execute_result"
    }
   ],
   "source": [
    "# The columns that contains too much missing values\n",
    "missingcols = df.columns[np.where(df.isna().sum()/len(df) > 0.2)[0]]\n",
    "missingcols"
   ]
  },
  {
   "cell_type": "code",
   "execution_count": 227,
   "metadata": {},
   "outputs": [
    {
     "name": "stdout",
     "output_type": "stream",
     "text": [
      "Grvl    50\n",
      "Pave    41\n",
      "Name: Alley, dtype: int64\n"
     ]
    }
   ],
   "source": [
    "print(df['Alley'].value_counts())"
   ]
  },
  {
   "cell_type": "code",
   "execution_count": 228,
   "metadata": {},
   "outputs": [],
   "source": [
    "df[missingcols] = df[missingcols].fillna('NA')"
   ]
  },
  {
   "cell_type": "code",
   "execution_count": 229,
   "metadata": {},
   "outputs": [
    {
     "data": {
      "text/plain": [
       "Index(['LotFrontage', 'MasVnrType', 'MasVnrArea', 'BsmtQual', 'BsmtCond',\n",
       "       'BsmtExposure', 'BsmtFinType1', 'BsmtFinType2', 'Electrical',\n",
       "       'GarageType', 'GarageYrBlt', 'GarageFinish', 'GarageQual',\n",
       "       'GarageCond'],\n",
       "      dtype='object')"
      ]
     },
     "execution_count": 229,
     "metadata": {},
     "output_type": "execute_result"
    }
   ],
   "source": [
    "df.columns[np.where(df.isna().sum()>0)[0]]"
   ]
  },
  {
   "cell_type": "code",
   "execution_count": 230,
   "metadata": {},
   "outputs": [],
   "source": [
    "# Going over the nans columns one by one and see if I can replace nans with some value that makes sense or totaly remove them\n",
    "df['LotFrontage'] = df['LotFrontage'].fillna(0.0)\n",
    "df['MasVnrType'] = df['MasVnrType'].fillna('NA') # Replace nans with 'NA'\n",
    "df.loc[(df['MasVnrType']=='None'),'MasVnrType'] = 'NA' # Update the None values with NA as well to keep the same NA valye\n",
    "\n",
    "df['MasVnrArea'] = df['MasVnrArea'].fillna(0.0)\n",
    "df['BsmtQual'] = df['BsmtQual'].fillna('NA')\n",
    "df['BsmtCond'] = df['BsmtCond'].fillna('NA')\n",
    "df['BsmtExposure'] = df['BsmtExposure'].fillna('NA')\n",
    "df['BsmtFinType1'] = df['BsmtFinType1'].fillna('NA')\n",
    "df['BsmtFinType2'] = df['BsmtFinType2'].fillna('NA')\n",
    "df.drop(df.index[np.where(df['Electrical'].isna())[0]], inplace=True) # Only one entry is missing\n",
    "df['GarageType'] = df['GarageType'].fillna('NA') \n",
    "# GarageYrBlt is handled in a following cell\n",
    "df['GarageFinish'] = df['GarageFinish'].fillna('NA')\n",
    "df['GarageQual'] = df['GarageQual'].fillna('NA')\n",
    "df['GarageCond'] = df['GarageCond'].fillna('NA')\n"
   ]
  },
  {
   "cell_type": "code",
   "execution_count": 231,
   "metadata": {},
   "outputs": [
    {
     "data": {
      "text/plain": [
       "97"
      ]
     },
     "execution_count": 231,
     "metadata": {},
     "output_type": "execute_result"
    }
   ],
   "source": [
    "df['GarageYrBlt'].nunique()"
   ]
  },
  {
   "cell_type": "code",
   "execution_count": 232,
   "metadata": {},
   "outputs": [
    {
     "data": {
      "image/png": "[encoded data removed]",
      "text/plain": [
       "<Figure size 432x288 with 1 Axes>"
      ]
     },
     "metadata": {
      "needs_background": "light"
     },
     "output_type": "display_data"
    }
   ],
   "source": [
    "df['GarageYrBlt'].plot(kind='box')\n",
    "plt.grid(axis='both')"
   ]
  },
  {
   "cell_type": "code",
   "execution_count": 233,
   "metadata": {},
   "outputs": [],
   "source": [
    "def garageYear2Cat(x):\n",
    "    if np.isnan(x):\n",
    "        return 'NA'\n",
    "    \n",
    "    if x<1963:\n",
    "        return 'old'\n",
    "    if (x>=1963) and (x<=1999):\n",
    "        return 'moderate'\n",
    "    else:\n",
    "        return 'new'\n"
   ]
  },
  {
   "cell_type": "code",
   "execution_count": 234,
   "metadata": {},
   "outputs": [],
   "source": [
    "df['GarageYrBlt'] = df['GarageYrBlt'].apply(garageYear2Cat)"
   ]
  },
  {
   "cell_type": "code",
   "execution_count": 235,
   "metadata": {},
   "outputs": [
    {
     "data": {
      "text/plain": [
       "moderate    609\n",
       "new         401\n",
       "old         368\n",
       "NA           81\n",
       "Name: GarageYrBlt, dtype: int64"
      ]
     },
     "execution_count": 235,
     "metadata": {},
     "output_type": "execute_result"
    }
   ],
   "source": [
    "df['GarageYrBlt'].value_counts()"
   ]
  },
  {
   "cell_type": "code",
   "execution_count": 236,
   "metadata": {},
   "outputs": [
    {
     "data": {
      "text/plain": [
       "Index([], dtype='object')"
      ]
     },
     "execution_count": 236,
     "metadata": {},
     "output_type": "execute_result"
    }
   ],
   "source": [
    "df[df.columns[np.where(df.isna().sum()>0)[0]]].select_dtypes(include='object').columns"
   ]
  },
  {
   "cell_type": "code",
   "execution_count": 237,
   "metadata": {},
   "outputs": [],
   "source": [
    "# Create a class to handle the preprocessing\n",
    "class Preprocessor(sklearn.base.TransformerMixin):\n",
    "    def __init__(self):\n",
    "\n",
    "        self.catcols = ['Alley', 'MasVnrType', 'BsmtQual', 'BsmtCond', 'BsmtExposure',\n",
    "                       'BsmtFinType1', 'BsmtFinType2', 'FireplaceQu',\n",
    "                       'GarageType', 'GarageFinish', 'GarageQual', 'GarageCond', 'PoolQC',\n",
    "                       'Fence', 'MiscFeature']\n",
    "        self.numcols = ['LotFrontage', 'MasVnrArea']\n",
    "        self.cols2removerowsfrom = ['Electrical']\n",
    "        self.cols2remove = []\n",
    "        \n",
    "        self.num2cat = ['GarageYrBlt']\n",
    "        self.num2catfn = [garageYear2Cat]\n",
    "        \n",
    "    def fit(self, X, y=None):\n",
    "        return self\n",
    "    \n",
    "    def transform(self, X):\n",
    "        updated_X = X.copy()\n",
    "        updated_X[self.catcols] = updated_X[self.catcols].fillna('NA')\n",
    "        updated_X.drop(self.cols2remove, axis=1, inplace=True)\n",
    "        updated_X.drop(updated_X.index[np.where(updated_X[self.cols2removerowsfrom].isna())[0]], inplace=True)\n",
    "        \n",
    "        updated_X[self.numcols] = updated_X[self.numcols].fillna(0.0)\n",
    "        for col, fn in zip(self.num2cat, self.num2catfn):\n",
    "            updated_X[col] = updated_X[col].apply(fn)\n",
    "        \n",
    "        # Special case\n",
    "        updated_X['MasVnrType'] = updated_X['MasVnrType'].fillna('NA') # Replace nans with 'NA'\n",
    "        updated_X.loc[(updated_X['MasVnrType']=='None'),'MasVnrType'] = 'NA' # Update the None values with NA as well to keep the same NA valye\n",
    "\n",
    "        \n",
    "        return updated_X\n",
    "    \n",
    "    def fit_transform(self, X):\n",
    "        return self.transform(X)"
   ]
  },
  {
   "cell_type": "code",
   "execution_count": 238,
   "metadata": {},
   "outputs": [
    {
     "ename": "TypeError",
     "evalue": "ufunc 'isnan' not supported for the input types, and the inputs could not be safely coerced to any supported types according to the casting rule ''safe''",
     "output_type": "error",
     "traceback": [
      "\u001b[1;31m---------------------------------------------------------------------------\u001b[0m",
      "\u001b[1;31mTypeError\u001b[0m                                 Traceback (most recent call last)",
      "\u001b[1;32m~\\AppData\\Local\\Temp/ipykernel_60192/762165973.py\u001b[0m in \u001b[0;36m<module>\u001b[1;34m\u001b[0m\n\u001b[0;32m      1\u001b[0m \u001b[0mp\u001b[0m \u001b[1;33m=\u001b[0m \u001b[0mPreprocessor\u001b[0m\u001b[1;33m(\u001b[0m\u001b[1;33m)\u001b[0m\u001b[1;33m\u001b[0m\u001b[1;33m\u001b[0m\u001b[0m\n\u001b[1;32m----> 2\u001b[1;33m \u001b[0mX\u001b[0m \u001b[1;33m=\u001b[0m \u001b[0mp\u001b[0m\u001b[1;33m.\u001b[0m\u001b[0mtransform\u001b[0m\u001b[1;33m(\u001b[0m\u001b[0mdf\u001b[0m\u001b[1;33m)\u001b[0m\u001b[1;33m\u001b[0m\u001b[1;33m\u001b[0m\u001b[0m\n\u001b[0m",
      "\u001b[1;32m~\\AppData\\Local\\Temp/ipykernel_60192/2671434992.py\u001b[0m in \u001b[0;36mtransform\u001b[1;34m(self, X)\u001b[0m\n\u001b[0;32m     25\u001b[0m         \u001b[0mupdated_X\u001b[0m\u001b[1;33m[\u001b[0m\u001b[0mself\u001b[0m\u001b[1;33m.\u001b[0m\u001b[0mnumcols\u001b[0m\u001b[1;33m]\u001b[0m \u001b[1;33m=\u001b[0m \u001b[0mupdated_X\u001b[0m\u001b[1;33m[\u001b[0m\u001b[0mself\u001b[0m\u001b[1;33m.\u001b[0m\u001b[0mnumcols\u001b[0m\u001b[1;33m]\u001b[0m\u001b[1;33m.\u001b[0m\u001b[0mfillna\u001b[0m\u001b[1;33m(\u001b[0m\u001b[1;36m0.0\u001b[0m\u001b[1;33m)\u001b[0m\u001b[1;33m\u001b[0m\u001b[1;33m\u001b[0m\u001b[0m\n\u001b[0;32m     26\u001b[0m         \u001b[1;32mfor\u001b[0m \u001b[0mcol\u001b[0m\u001b[1;33m,\u001b[0m \u001b[0mfn\u001b[0m \u001b[1;32min\u001b[0m \u001b[0mzip\u001b[0m\u001b[1;33m(\u001b[0m\u001b[0mself\u001b[0m\u001b[1;33m.\u001b[0m\u001b[0mnum2cat\u001b[0m\u001b[1;33m,\u001b[0m \u001b[0mself\u001b[0m\u001b[1;33m.\u001b[0m\u001b[0mnum2catfn\u001b[0m\u001b[1;33m)\u001b[0m\u001b[1;33m:\u001b[0m\u001b[1;33m\u001b[0m\u001b[1;33m\u001b[0m\u001b[0m\n\u001b[1;32m---> 27\u001b[1;33m             \u001b[0mupdated_X\u001b[0m\u001b[1;33m[\u001b[0m\u001b[0mcol\u001b[0m\u001b[1;33m]\u001b[0m \u001b[1;33m=\u001b[0m \u001b[0mupdated_X\u001b[0m\u001b[1;33m[\u001b[0m\u001b[0mcol\u001b[0m\u001b[1;33m]\u001b[0m\u001b[1;33m.\u001b[0m\u001b[0mapply\u001b[0m\u001b[1;33m(\u001b[0m\u001b[0mfn\u001b[0m\u001b[1;33m)\u001b[0m\u001b[1;33m\u001b[0m\u001b[1;33m\u001b[0m\u001b[0m\n\u001b[0m\u001b[0;32m     28\u001b[0m \u001b[1;33m\u001b[0m\u001b[0m\n\u001b[0;32m     29\u001b[0m         \u001b[1;31m# Special case\u001b[0m\u001b[1;33m\u001b[0m\u001b[1;33m\u001b[0m\u001b[1;33m\u001b[0m\u001b[0m\n",
      "\u001b[1;32m~\\.conda\\envs\\pyalgo\\lib\\site-packages\\pandas\\core\\series.py\u001b[0m in \u001b[0;36mapply\u001b[1;34m(self, func, convert_dtype, args, **kwargs)\u001b[0m\n\u001b[0;32m   4355\u001b[0m         \u001b[0mdtype\u001b[0m\u001b[1;33m:\u001b[0m \u001b[0mfloat64\u001b[0m\u001b[1;33m\u001b[0m\u001b[1;33m\u001b[0m\u001b[0m\n\u001b[0;32m   4356\u001b[0m         \"\"\"\n\u001b[1;32m-> 4357\u001b[1;33m         \u001b[1;32mreturn\u001b[0m \u001b[0mSeriesApply\u001b[0m\u001b[1;33m(\u001b[0m\u001b[0mself\u001b[0m\u001b[1;33m,\u001b[0m \u001b[0mfunc\u001b[0m\u001b[1;33m,\u001b[0m \u001b[0mconvert_dtype\u001b[0m\u001b[1;33m,\u001b[0m \u001b[0margs\u001b[0m\u001b[1;33m,\u001b[0m \u001b[0mkwargs\u001b[0m\u001b[1;33m)\u001b[0m\u001b[1;33m.\u001b[0m\u001b[0mapply\u001b[0m\u001b[1;33m(\u001b[0m\u001b[1;33m)\u001b[0m\u001b[1;33m\u001b[0m\u001b[1;33m\u001b[0m\u001b[0m\n\u001b[0m\u001b[0;32m   4358\u001b[0m \u001b[1;33m\u001b[0m\u001b[0m\n\u001b[0;32m   4359\u001b[0m     def _reduce(\n",
      "\u001b[1;32m~\\.conda\\envs\\pyalgo\\lib\\site-packages\\pandas\\core\\apply.py\u001b[0m in \u001b[0;36mapply\u001b[1;34m(self)\u001b[0m\n\u001b[0;32m   1041\u001b[0m             \u001b[1;32mreturn\u001b[0m \u001b[0mself\u001b[0m\u001b[1;33m.\u001b[0m\u001b[0mapply_str\u001b[0m\u001b[1;33m(\u001b[0m\u001b[1;33m)\u001b[0m\u001b[1;33m\u001b[0m\u001b[1;33m\u001b[0m\u001b[0m\n\u001b[0;32m   1042\u001b[0m \u001b[1;33m\u001b[0m\u001b[0m\n\u001b[1;32m-> 1043\u001b[1;33m         \u001b[1;32mreturn\u001b[0m \u001b[0mself\u001b[0m\u001b[1;33m.\u001b[0m\u001b[0mapply_standard\u001b[0m\u001b[1;33m(\u001b[0m\u001b[1;33m)\u001b[0m\u001b[1;33m\u001b[0m\u001b[1;33m\u001b[0m\u001b[0m\n\u001b[0m\u001b[0;32m   1044\u001b[0m \u001b[1;33m\u001b[0m\u001b[0m\n\u001b[0;32m   1045\u001b[0m     \u001b[1;32mdef\u001b[0m \u001b[0magg\u001b[0m\u001b[1;33m(\u001b[0m\u001b[0mself\u001b[0m\u001b[1;33m)\u001b[0m\u001b[1;33m:\u001b[0m\u001b[1;33m\u001b[0m\u001b[1;33m\u001b[0m\u001b[0m\n",
      "\u001b[1;32m~\\.conda\\envs\\pyalgo\\lib\\site-packages\\pandas\\core\\apply.py\u001b[0m in \u001b[0;36mapply_standard\u001b[1;34m(self)\u001b[0m\n\u001b[0;32m   1097\u001b[0m                 \u001b[1;31m# List[Union[Callable[..., Any], str]]]]]\"; expected\u001b[0m\u001b[1;33m\u001b[0m\u001b[1;33m\u001b[0m\u001b[1;33m\u001b[0m\u001b[0m\n\u001b[0;32m   1098\u001b[0m                 \u001b[1;31m# \"Callable[[Any], Any]\"\u001b[0m\u001b[1;33m\u001b[0m\u001b[1;33m\u001b[0m\u001b[1;33m\u001b[0m\u001b[0m\n\u001b[1;32m-> 1099\u001b[1;33m                 mapped = lib.map_infer(\n\u001b[0m\u001b[0;32m   1100\u001b[0m                     \u001b[0mvalues\u001b[0m\u001b[1;33m,\u001b[0m\u001b[1;33m\u001b[0m\u001b[1;33m\u001b[0m\u001b[0m\n\u001b[0;32m   1101\u001b[0m                     \u001b[0mf\u001b[0m\u001b[1;33m,\u001b[0m  \u001b[1;31m# type: ignore[arg-type]\u001b[0m\u001b[1;33m\u001b[0m\u001b[1;33m\u001b[0m\u001b[0m\n",
      "\u001b[1;32m~\\.conda\\envs\\pyalgo\\lib\\site-packages\\pandas\\_libs\\lib.pyx\u001b[0m in \u001b[0;36mpandas._libs.lib.map_infer\u001b[1;34m()\u001b[0m\n",
      "\u001b[1;32m~\\AppData\\Local\\Temp/ipykernel_60192/329205032.py\u001b[0m in \u001b[0;36mgarageYear2Cat\u001b[1;34m(x)\u001b[0m\n\u001b[0;32m      1\u001b[0m \u001b[1;32mdef\u001b[0m \u001b[0mgarageYear2Cat\u001b[0m\u001b[1;33m(\u001b[0m\u001b[0mx\u001b[0m\u001b[1;33m)\u001b[0m\u001b[1;33m:\u001b[0m\u001b[1;33m\u001b[0m\u001b[1;33m\u001b[0m\u001b[0m\n\u001b[1;32m----> 2\u001b[1;33m     \u001b[1;32mif\u001b[0m \u001b[0mnp\u001b[0m\u001b[1;33m.\u001b[0m\u001b[0misnan\u001b[0m\u001b[1;33m(\u001b[0m\u001b[0mx\u001b[0m\u001b[1;33m)\u001b[0m\u001b[1;33m:\u001b[0m\u001b[1;33m\u001b[0m\u001b[1;33m\u001b[0m\u001b[0m\n\u001b[0m\u001b[0;32m      3\u001b[0m         \u001b[1;32mreturn\u001b[0m \u001b[1;34m'NA'\u001b[0m\u001b[1;33m\u001b[0m\u001b[1;33m\u001b[0m\u001b[0m\n\u001b[0;32m      4\u001b[0m \u001b[1;33m\u001b[0m\u001b[0m\n\u001b[0;32m      5\u001b[0m     \u001b[1;32mif\u001b[0m \u001b[0mx\u001b[0m\u001b[1;33m<\u001b[0m\u001b[1;36m1963\u001b[0m\u001b[1;33m:\u001b[0m\u001b[1;33m\u001b[0m\u001b[1;33m\u001b[0m\u001b[0m\n",
      "\u001b[1;31mTypeError\u001b[0m: ufunc 'isnan' not supported for the input types, and the inputs could not be safely coerced to any supported types according to the casting rule ''safe''"
     ]
    }
   ],
   "source": [
    "p = Preprocessor()\n",
    "X = p.transform(df)"
   ]
  },
  {
   "cell_type": "code",
   "execution_count": 239,
   "metadata": {},
   "outputs": [
    {
     "data": {
      "text/plain": [
       "True"
      ]
     },
     "execution_count": 239,
     "metadata": {},
     "output_type": "execute_result"
    }
   ],
   "source": [
    "df.equals(X)"
   ]
  },
  {
   "cell_type": "code",
   "execution_count": 178,
   "metadata": {},
   "outputs": [],
   "source": [
    "for col in df.columns:\n",
    "    if (df[col] != X[col]).sum() > 0:\n",
    "        print(col)"
   ]
  },
  {
   "cell_type": "code",
   "execution_count": 181,
   "metadata": {},
   "outputs": [
    {
     "data": {
      "text/plain": [
       "0"
      ]
     },
     "execution_count": 181,
     "metadata": {},
     "output_type": "execute_result"
    }
   ],
   "source": [
    "df.isna().sum().sum() # If it is 0, then we are good to go"
   ]
  },
  {
   "cell_type": "code",
   "execution_count": 288,
   "metadata": {},
   "outputs": [],
   "source": [
    "np.random.seed(101)\n",
    "df_test = df.sample(frac=0.2)\n",
    "df_train = df.drop(df_test.index)"
   ]
  },
  {
   "cell_type": "code",
   "execution_count": 289,
   "metadata": {},
   "outputs": [
    {
     "data": {
      "text/html": [
       "<div>\n",
       "<style scoped>\n",
       "    .dataframe tbody tr th:only-of-type {\n",
       "        vertical-align: middle;\n",
       "    }\n",
       "\n",
       "    .dataframe tbody tr th {\n",
       "        vertical-align: top;\n",
       "    }\n",
       "\n",
       "    .dataframe thead th {\n",
       "        text-align: right;\n",
       "    }\n",
       "</style>\n",
       "<table border=\"1\" class=\"dataframe\">\n",
       "  <thead>\n",
       "    <tr style=\"text-align: right;\">\n",
       "      <th></th>\n",
       "      <th>Id</th>\n",
       "      <th>MSSubClass</th>\n",
       "      <th>MSZoning</th>\n",
       "      <th>LotFrontage</th>\n",
       "      <th>LotArea</th>\n",
       "      <th>Street</th>\n",
       "      <th>Alley</th>\n",
       "      <th>LotShape</th>\n",
       "      <th>LandContour</th>\n",
       "      <th>Utilities</th>\n",
       "      <th>...</th>\n",
       "      <th>PoolArea</th>\n",
       "      <th>PoolQC</th>\n",
       "      <th>Fence</th>\n",
       "      <th>MiscFeature</th>\n",
       "      <th>MiscVal</th>\n",
       "      <th>MoSold</th>\n",
       "      <th>YrSold</th>\n",
       "      <th>SaleType</th>\n",
       "      <th>SaleCondition</th>\n",
       "      <th>SalePrice</th>\n",
       "    </tr>\n",
       "  </thead>\n",
       "  <tbody>\n",
       "    <tr>\n",
       "      <th>1</th>\n",
       "      <td>2</td>\n",
       "      <td>20</td>\n",
       "      <td>RL</td>\n",
       "      <td>80.0</td>\n",
       "      <td>9600</td>\n",
       "      <td>Pave</td>\n",
       "      <td>NA</td>\n",
       "      <td>Reg</td>\n",
       "      <td>Lvl</td>\n",
       "      <td>AllPub</td>\n",
       "      <td>...</td>\n",
       "      <td>0</td>\n",
       "      <td>NA</td>\n",
       "      <td>NA</td>\n",
       "      <td>NA</td>\n",
       "      <td>0</td>\n",
       "      <td>5</td>\n",
       "      <td>2007</td>\n",
       "      <td>WD</td>\n",
       "      <td>Normal</td>\n",
       "      <td>181500</td>\n",
       "    </tr>\n",
       "    <tr>\n",
       "      <th>3</th>\n",
       "      <td>4</td>\n",
       "      <td>70</td>\n",
       "      <td>RL</td>\n",
       "      <td>60.0</td>\n",
       "      <td>9550</td>\n",
       "      <td>Pave</td>\n",
       "      <td>NA</td>\n",
       "      <td>IR1</td>\n",
       "      <td>Lvl</td>\n",
       "      <td>AllPub</td>\n",
       "      <td>...</td>\n",
       "      <td>0</td>\n",
       "      <td>NA</td>\n",
       "      <td>NA</td>\n",
       "      <td>NA</td>\n",
       "      <td>0</td>\n",
       "      <td>2</td>\n",
       "      <td>2006</td>\n",
       "      <td>WD</td>\n",
       "      <td>Abnorml</td>\n",
       "      <td>140000</td>\n",
       "    </tr>\n",
       "    <tr>\n",
       "      <th>4</th>\n",
       "      <td>5</td>\n",
       "      <td>60</td>\n",
       "      <td>RL</td>\n",
       "      <td>84.0</td>\n",
       "      <td>14260</td>\n",
       "      <td>Pave</td>\n",
       "      <td>NA</td>\n",
       "      <td>IR1</td>\n",
       "      <td>Lvl</td>\n",
       "      <td>AllPub</td>\n",
       "      <td>...</td>\n",
       "      <td>0</td>\n",
       "      <td>NA</td>\n",
       "      <td>NA</td>\n",
       "      <td>NA</td>\n",
       "      <td>0</td>\n",
       "      <td>12</td>\n",
       "      <td>2008</td>\n",
       "      <td>WD</td>\n",
       "      <td>Normal</td>\n",
       "      <td>250000</td>\n",
       "    </tr>\n",
       "    <tr>\n",
       "      <th>5</th>\n",
       "      <td>6</td>\n",
       "      <td>50</td>\n",
       "      <td>RL</td>\n",
       "      <td>85.0</td>\n",
       "      <td>14115</td>\n",
       "      <td>Pave</td>\n",
       "      <td>NA</td>\n",
       "      <td>IR1</td>\n",
       "      <td>Lvl</td>\n",
       "      <td>AllPub</td>\n",
       "      <td>...</td>\n",
       "      <td>0</td>\n",
       "      <td>NA</td>\n",
       "      <td>MnPrv</td>\n",
       "      <td>Shed</td>\n",
       "      <td>700</td>\n",
       "      <td>10</td>\n",
       "      <td>2009</td>\n",
       "      <td>WD</td>\n",
       "      <td>Normal</td>\n",
       "      <td>143000</td>\n",
       "    </tr>\n",
       "    <tr>\n",
       "      <th>6</th>\n",
       "      <td>7</td>\n",
       "      <td>20</td>\n",
       "      <td>RL</td>\n",
       "      <td>75.0</td>\n",
       "      <td>10084</td>\n",
       "      <td>Pave</td>\n",
       "      <td>NA</td>\n",
       "      <td>Reg</td>\n",
       "      <td>Lvl</td>\n",
       "      <td>AllPub</td>\n",
       "      <td>...</td>\n",
       "      <td>0</td>\n",
       "      <td>NA</td>\n",
       "      <td>NA</td>\n",
       "      <td>NA</td>\n",
       "      <td>0</td>\n",
       "      <td>8</td>\n",
       "      <td>2007</td>\n",
       "      <td>WD</td>\n",
       "      <td>Normal</td>\n",
       "      <td>307000</td>\n",
       "    </tr>\n",
       "  </tbody>\n",
       "</table>\n",
       "<p>5 rows × 81 columns</p>\n",
       "</div>"
      ],
      "text/plain": [
       "   Id  MSSubClass MSZoning  LotFrontage  LotArea Street Alley LotShape  \\\n",
       "1   2          20       RL         80.0     9600   Pave    NA      Reg   \n",
       "3   4          70       RL         60.0     9550   Pave    NA      IR1   \n",
       "4   5          60       RL         84.0    14260   Pave    NA      IR1   \n",
       "5   6          50       RL         85.0    14115   Pave    NA      IR1   \n",
       "6   7          20       RL         75.0    10084   Pave    NA      Reg   \n",
       "\n",
       "  LandContour Utilities  ... PoolArea PoolQC  Fence MiscFeature MiscVal  \\\n",
       "1         Lvl    AllPub  ...        0     NA     NA          NA       0   \n",
       "3         Lvl    AllPub  ...        0     NA     NA          NA       0   \n",
       "4         Lvl    AllPub  ...        0     NA     NA          NA       0   \n",
       "5         Lvl    AllPub  ...        0     NA  MnPrv        Shed     700   \n",
       "6         Lvl    AllPub  ...        0     NA     NA          NA       0   \n",
       "\n",
       "  MoSold YrSold  SaleType  SaleCondition  SalePrice  \n",
       "1      5   2007        WD         Normal     181500  \n",
       "3      2   2006        WD        Abnorml     140000  \n",
       "4     12   2008        WD         Normal     250000  \n",
       "5     10   2009        WD         Normal     143000  \n",
       "6      8   2007        WD         Normal     307000  \n",
       "\n",
       "[5 rows x 81 columns]"
      ]
     },
     "execution_count": 289,
     "metadata": {},
     "output_type": "execute_result"
    }
   ],
   "source": [
    "df_train.head()"
   ]
  },
  {
   "cell_type": "code",
   "execution_count": 270,
   "metadata": {
    "collapsed": true,
    "jupyter": {
     "outputs_hidden": true
    },
    "tags": []
   },
   "outputs": [
    {
     "name": "stdout",
     "output_type": "stream",
     "text": [
      "<class 'pandas.core.frame.DataFrame'>\n",
      "Int64Index: 1167 entries, 1 to 1459\n",
      "Data columns (total 81 columns):\n",
      " #   Column         Non-Null Count  Dtype  \n",
      "---  ------         --------------  -----  \n",
      " 0   Id             1167 non-null   int64  \n",
      " 1   MSSubClass     1167 non-null   int64  \n",
      " 2   MSZoning       1167 non-null   object \n",
      " 3   LotFrontage    1167 non-null   float64\n",
      " 4   LotArea        1167 non-null   int64  \n",
      " 5   Street         1167 non-null   object \n",
      " 6   Alley          1167 non-null   object \n",
      " 7   LotShape       1167 non-null   object \n",
      " 8   LandContour    1167 non-null   object \n",
      " 9   Utilities      1167 non-null   object \n",
      " 10  LotConfig      1167 non-null   object \n",
      " 11  LandSlope      1167 non-null   object \n",
      " 12  Neighborhood   1167 non-null   object \n",
      " 13  Condition1     1167 non-null   object \n",
      " 14  Condition2     1167 non-null   object \n",
      " 15  BldgType       1167 non-null   object \n",
      " 16  HouseStyle     1167 non-null   object \n",
      " 17  OverallQual    1167 non-null   int64  \n",
      " 18  OverallCond    1167 non-null   int64  \n",
      " 19  YearBuilt      1167 non-null   int64  \n",
      " 20  YearRemodAdd   1167 non-null   int64  \n",
      " 21  RoofStyle      1167 non-null   object \n",
      " 22  RoofMatl       1167 non-null   object \n",
      " 23  Exterior1st    1167 non-null   object \n",
      " 24  Exterior2nd    1167 non-null   object \n",
      " 25  MasVnrType     1167 non-null   object \n",
      " 26  MasVnrArea     1167 non-null   float64\n",
      " 27  ExterQual      1167 non-null   object \n",
      " 28  ExterCond      1167 non-null   object \n",
      " 29  Foundation     1167 non-null   object \n",
      " 30  BsmtQual       1167 non-null   object \n",
      " 31  BsmtCond       1167 non-null   object \n",
      " 32  BsmtExposure   1167 non-null   object \n",
      " 33  BsmtFinType1   1167 non-null   object \n",
      " 34  BsmtFinSF1     1167 non-null   int64  \n",
      " 35  BsmtFinType2   1167 non-null   object \n",
      " 36  BsmtFinSF2     1167 non-null   int64  \n",
      " 37  BsmtUnfSF      1167 non-null   int64  \n",
      " 38  TotalBsmtSF    1167 non-null   int64  \n",
      " 39  Heating        1167 non-null   object \n",
      " 40  HeatingQC      1167 non-null   object \n",
      " 41  CentralAir     1167 non-null   object \n",
      " 42  Electrical     1167 non-null   object \n",
      " 43  1stFlrSF       1167 non-null   int64  \n",
      " 44  2ndFlrSF       1167 non-null   int64  \n",
      " 45  LowQualFinSF   1167 non-null   int64  \n",
      " 46  GrLivArea      1167 non-null   int64  \n",
      " 47  BsmtFullBath   1167 non-null   int64  \n",
      " 48  BsmtHalfBath   1167 non-null   int64  \n",
      " 49  FullBath       1167 non-null   int64  \n",
      " 50  HalfBath       1167 non-null   int64  \n",
      " 51  BedroomAbvGr   1167 non-null   int64  \n",
      " 52  KitchenAbvGr   1167 non-null   int64  \n",
      " 53  KitchenQual    1167 non-null   object \n",
      " 54  TotRmsAbvGrd   1167 non-null   int64  \n",
      " 55  Functional     1167 non-null   object \n",
      " 56  Fireplaces     1167 non-null   int64  \n",
      " 57  FireplaceQu    1167 non-null   object \n",
      " 58  GarageType     1167 non-null   object \n",
      " 59  GarageYrBlt    1167 non-null   object \n",
      " 60  GarageFinish   1167 non-null   object \n",
      " 61  GarageCars     1167 non-null   int64  \n",
      " 62  GarageArea     1167 non-null   int64  \n",
      " 63  GarageQual     1167 non-null   object \n",
      " 64  GarageCond     1167 non-null   object \n",
      " 65  PavedDrive     1167 non-null   object \n",
      " 66  WoodDeckSF     1167 non-null   int64  \n",
      " 67  OpenPorchSF    1167 non-null   int64  \n",
      " 68  EnclosedPorch  1167 non-null   int64  \n",
      " 69  3SsnPorch      1167 non-null   int64  \n",
      " 70  ScreenPorch    1167 non-null   int64  \n",
      " 71  PoolArea       1167 non-null   int64  \n",
      " 72  PoolQC         1167 non-null   object \n",
      " 73  Fence          1167 non-null   object \n",
      " 74  MiscFeature    1167 non-null   object \n",
      " 75  MiscVal        1167 non-null   int64  \n",
      " 76  MoSold         1167 non-null   int64  \n",
      " 77  YrSold         1167 non-null   int64  \n",
      " 78  SaleType       1167 non-null   object \n",
      " 79  SaleCondition  1167 non-null   object \n",
      " 80  SalePrice      1167 non-null   int64  \n",
      "dtypes: float64(2), int64(35), object(44)\n",
      "memory usage: 747.6+ KB\n"
     ]
    }
   ],
   "source": [
    "df_train.info()"
   ]
  },
  {
   "cell_type": "code",
   "execution_count": 290,
   "metadata": {},
   "outputs": [],
   "source": [
    "cat_cols = df_train.select_dtypes(include=['object']).columns\n",
    "num_cols = set(df_train.columns)-set(cat_cols)"
   ]
  },
  {
   "cell_type": "code",
   "execution_count": 291,
   "metadata": {},
   "outputs": [
    {
     "data": {
      "text/plain": [
       "(44, 37)"
      ]
     },
     "execution_count": 291,
     "metadata": {},
     "output_type": "execute_result"
    }
   ],
   "source": [
    "len(cat_cols), len(num_cols)"
   ]
  },
  {
   "cell_type": "code",
   "execution_count": 292,
   "metadata": {},
   "outputs": [
    {
     "data": {
      "text/plain": [
       "count    44.000000\n",
       "mean      6.022727\n",
       "std       4.008646\n",
       "min       2.000000\n",
       "25%       4.000000\n",
       "50%       5.000000\n",
       "75%       6.250000\n",
       "max      25.000000\n",
       "dtype: float64"
      ]
     },
     "execution_count": 292,
     "metadata": {},
     "output_type": "execute_result"
    }
   ],
   "source": [
    "df_train[cat_cols].nunique().describe()"
   ]
  },
  {
   "cell_type": "code",
   "execution_count": 293,
   "metadata": {},
   "outputs": [
    {
     "data": {
      "text/plain": [
       "count    44.000000\n",
       "mean     13.613636\n",
       "std      18.064762\n",
       "min       1.000000\n",
       "25%       1.000000\n",
       "50%       5.000000\n",
       "75%      23.750000\n",
       "max      73.000000\n",
       "Name: min, dtype: float64"
      ]
     },
     "execution_count": 293,
     "metadata": {},
     "output_type": "execute_result"
    }
   ],
   "source": [
    "col_min_max = {}\n",
    "for col in cat_cols:\n",
    "    cnts = df_train[col].value_counts()\n",
    "    col_min_max[col] = [cnts.min(), cnts.max()]\n",
    "\n",
    "pd.DataFrame(col_min_max, index=['min','max']).iloc[0,:].describe()\n",
    "# Picking threshold 20"
   ]
  },
  {
   "cell_type": "code",
   "execution_count": 294,
   "metadata": {},
   "outputs": [],
   "source": [
    "# First hyper parameter (lower limit to exclude categorical values to limit the date dimensionality)\n",
    "threshold=20\n",
    "for col in cat_cols:\n",
    "    idx = np.where(df_train[col].value_counts() < threshold)\n",
    "    old_values = df_train[col].value_counts().index[idx]\n",
    "    df_train[col] = df_train[col].apply(lambda x: 'other' if x in old_values.tolist() else x)"
   ]
  },
  {
   "cell_type": "code",
   "execution_count": 295,
   "metadata": {},
   "outputs": [
    {
     "data": {
      "text/plain": [
       "['Family', 'Alloca', 'AdjLand']"
      ]
     },
     "execution_count": 295,
     "metadata": {},
     "output_type": "execute_result"
    }
   ],
   "source": [
    "old_values.to_list()"
   ]
  },
  {
   "cell_type": "code",
   "execution_count": 296,
   "metadata": {},
   "outputs": [
    {
     "name": "stdout",
     "output_type": "stream",
     "text": [
      "199\n"
     ]
    }
   ],
   "source": [
    "# Calculate the new dimensionality\n",
    "added_dims = 0\n",
    "for cat in cat_cols:\n",
    "    added_dims += df_train[cat].nunique()\n",
    "print(added_dims)"
   ]
  },
  {
   "cell_type": "code",
   "execution_count": 297,
   "metadata": {},
   "outputs": [],
   "source": [
    "ohe_dict = {}\n",
    "for cat in cat_cols:\n",
    "    ohe = sklearn.preprocessing.OneHotEncoder(handle_unknown='ignore')\n",
    "    X_train_cat = pd.DataFrame(ohe.fit_transform(df_train[[cat]]).toarray(), index=df_train.index, columns=ohe.get_feature_names([cat]))\n",
    "    df_train.drop(cat, axis=1, inplace=True)\n",
    "    df_train = pd.concat([df_train, X_train_cat], axis=1)\n",
    "    ohe_dict[cat] = ohe"
   ]
  },
  {
   "cell_type": "code",
   "execution_count": 300,
   "metadata": {},
   "outputs": [],
   "source": [
    "# Embed the OHE in a class\n",
    "class CategoricalHandler(sklearn.base.TransformerMixin):\n",
    "    def __init__(self, catcols=[]):\n",
    "        self.catcols = catcols\n",
    "    def fit(self, X, y=None):\n",
    "        self.ohe_dict_ = {}\n",
    "        for cat in self.catcols:\n",
    "            ohe = sklearn.preprocessing.OneHotEncoder(handle_unknown='ignore')\n",
    "            ohe.fit(X)\n",
    "            self.ohe_dict_[cat] = ohe\n",
    "        return self\n",
    "    \n",
    "    def transform(self, X):\n",
    "        uX = X.copy()\n",
    "        for cat, ohe in self.ohe_dict_.items():\n",
    "            X_train_cat = pd.DataFrame(ohe.fit_transform(uX[[cat]]).toarray(), index=uX.index, columns=ohe.get_feature_names([cat]))\n",
    "            uX.drop(cat, axis=1, inplace=True)\n",
    "            uX = pd.concat([uX, X_train_cat], axis=1)\n",
    "        return uX\n",
    "    \n",
    "    def fit_transform(self, X):\n",
    "        self.ohe_dict_ = {}\n",
    "        uX = X.copy()\n",
    "        for cat in self.catcols:\n",
    "            ohe = sklearn.preprocessing.OneHotEncoder(handle_unknown='ignore')\n",
    "            X_train_cat = pd.DataFrame(ohe.fit_transform(uX[[cat]]).toarray(), index=uX.index, columns=ohe.get_feature_names([cat]))\n",
    "            uX.drop(cat, axis=1, inplace=True)\n",
    "            uX = pd.concat([uX, X_train_cat], axis=1)\n",
    "            self.ohe_dict_[cat] = ohe\n",
    "        return uX\n",
    "        "
   ]
  },
  {
   "cell_type": "code",
   "execution_count": 302,
   "metadata": {},
   "outputs": [],
   "source": [
    "# Perform the feature selection"
   ]
  },
  {
   "cell_type": "code",
   "execution_count": null,
   "metadata": {},
   "outputs": [],
   "source": []
  },
  {
   "cell_type": "code",
   "execution_count": null,
   "metadata": {},
   "outputs": [],
   "source": []
  },
  {
   "cell_type": "code",
   "execution_count": null,
   "metadata": {},
   "outputs": [],
   "source": []
  }
 ],
 "metadata": {
  "interpreter": {
   "hash": "ffd4f5020d68a9e1035e7273d938a2659b2922f7d13145f4a92fbbcd4ea00944"
  },
  "kernelspec": {
   "display_name": "Python 3 (ipykernel)",
   "language": "python",
   "name": "python3"
  },
  "language_info": {
   "codemirror_mode": {
    "name": "ipython",
    "version": 3
   },
   "file_extension": ".py",
   "mimetype": "text/x-python",
   "name": "python",
   "nbconvert_exporter": "python",
   "pygments_lexer": "ipython3",
   "version": "3.9.6"
  }
 },
 "nbformat": 4,
 "nbformat_minor": 4
}
